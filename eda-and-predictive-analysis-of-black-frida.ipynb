{
 "cells": [
  {
   "cell_type": "code",
   "execution_count": 1,
   "id": "c8de2137",
   "metadata": {
    "_cell_guid": "b1076dfc-b9ad-4769-8c92-a6c4dae69d19",
    "_uuid": "8f2839f25d086af736a60e9eeb907d3b93b6e0e5",
    "execution": {
     "iopub.execute_input": "2022-12-24T06:58:38.429107Z",
     "iopub.status.busy": "2022-12-24T06:58:38.428568Z",
     "iopub.status.idle": "2022-12-24T06:58:38.455829Z",
     "shell.execute_reply": "2022-12-24T06:58:38.454668Z"
    },
    "papermill": {
     "duration": 0.052559,
     "end_time": "2022-12-24T06:58:38.458777",
     "exception": false,
     "start_time": "2022-12-24T06:58:38.406218",
     "status": "completed"
    },
    "tags": []
   },
   "outputs": [
    {
     "name": "stdout",
     "output_type": "stream",
     "text": [
      "/kaggle/input/black-friday/train.csv\n",
      "/kaggle/input/black-friday/test.csv\n"
     ]
    }
   ],
   "source": [
    "# This Python 3 environment comes with many helpful analytics libraries installed\n",
    "# It is defined by the kaggle/python Docker image: https://github.com/kaggle/docker-python\n",
    "# For example, here's several helpful packages to load\n",
    "\n",
    "import numpy as np # linear algebra\n",
    "import pandas as pd # data processing, CSV file I/O (e.g. pd.read_csv)\n",
    "\n",
    "# Input data files are available in the read-only \"../input/\" directory\n",
    "# For example, running this (by clicking run or pressing Shift+Enter) will list all files under the input directory\n",
    "\n",
    "import os\n",
    "for dirname, _, filenames in os.walk('/kaggle/input'):\n",
    "    for filename in filenames:\n",
    "        print(os.path.join(dirname, filename))\n",
    "\n",
    "# You can write up to 20GB to the current directory (/kaggle/working/) that gets preserved as output when you create a version using \"Save & Run All\" \n",
    "# You can also write temporary files to /kaggle/temp/, but they won't be saved outside of the current session"
   ]
  },
  {
   "cell_type": "code",
   "execution_count": 2,
   "id": "c0c47e61",
   "metadata": {
    "execution": {
     "iopub.execute_input": "2022-12-24T06:58:38.498583Z",
     "iopub.status.busy": "2022-12-24T06:58:38.498022Z",
     "iopub.status.idle": "2022-12-24T06:58:40.838344Z",
     "shell.execute_reply": "2022-12-24T06:58:40.837131Z"
    },
    "papermill": {
     "duration": 2.363955,
     "end_time": "2022-12-24T06:58:40.841716",
     "exception": false,
     "start_time": "2022-12-24T06:58:38.477761",
     "status": "completed"
    },
    "tags": []
   },
   "outputs": [],
   "source": [
    "#Importing the Required Libraries\n",
    "import pandas as pd \n",
    "\n",
    "import numpy as np \n",
    "\n",
    "import seaborn as sns\n",
    "\n",
    "import matplotlib.pyplot as plt\n",
    "%matplotlib inline\n",
    "\n",
    "import warnings\n",
    "warnings.filterwarnings(\"ignore\")\n",
    "\n",
    "import statsmodels.formula.api as smf\n",
    "\n",
    "from sklearn.preprocessing import OneHotEncoder\n",
    "from sklearn.preprocessing import LabelEncoder\n",
    "\n",
    "from sklearn.preprocessing import StandardScaler\n",
    "\n",
    "import statsmodels.api as sm\n",
    "from statsmodels.graphics.regressionplots import influence_plot"
   ]
  },
  {
   "cell_type": "markdown",
   "id": "a8a7044e",
   "metadata": {
    "papermill": {
     "duration": 0.017452,
     "end_time": "2022-12-24T06:58:40.876688",
     "exception": false,
     "start_time": "2022-12-24T06:58:40.859236",
     "status": "completed"
    },
    "tags": []
   },
   "source": []
  },
  {
   "cell_type": "code",
   "execution_count": 3,
   "id": "f8c02b56",
   "metadata": {
    "execution": {
     "iopub.execute_input": "2022-12-24T06:58:40.914361Z",
     "iopub.status.busy": "2022-12-24T06:58:40.913306Z",
     "iopub.status.idle": "2022-12-24T06:58:40.924955Z",
     "shell.execute_reply": "2022-12-24T06:58:40.923319Z"
    },
    "papermill": {
     "duration": 0.033758,
     "end_time": "2022-12-24T06:58:40.928064",
     "exception": false,
     "start_time": "2022-12-24T06:58:40.894306",
     "status": "completed"
    },
    "tags": []
   },
   "outputs": [
    {
     "data": {
      "text/plain": [
       "['/kaggle/input/black-friday/train.csv', '/kaggle/input/black-friday/test.csv']"
      ]
     },
     "execution_count": 3,
     "metadata": {},
     "output_type": "execute_result"
    }
   ],
   "source": [
    "path_datasets = r\"/kaggle/input/black-friday\"\n",
    "\n",
    "files = [os.path.join(path_datasets,filename) for filename in os.listdir(path_datasets)]\n",
    "files"
   ]
  },
  {
   "cell_type": "code",
   "execution_count": 4,
   "id": "58ed904d",
   "metadata": {
    "execution": {
     "iopub.execute_input": "2022-12-24T06:58:40.966204Z",
     "iopub.status.busy": "2022-12-24T06:58:40.965190Z",
     "iopub.status.idle": "2022-12-24T06:58:42.440289Z",
     "shell.execute_reply": "2022-12-24T06:58:42.438593Z"
    },
    "papermill": {
     "duration": 1.497487,
     "end_time": "2022-12-24T06:58:42.443612",
     "exception": false,
     "start_time": "2022-12-24T06:58:40.946125",
     "status": "completed"
    },
    "tags": []
   },
   "outputs": [],
   "source": [
    "#dataset\n",
    "df_train = pd.read_csv(files[0])\n",
    "df_test=pd.read_csv(files[1])"
   ]
  },
  {
   "cell_type": "code",
   "execution_count": 5,
   "id": "d1d4d411",
   "metadata": {
    "execution": {
     "iopub.execute_input": "2022-12-24T06:58:42.482114Z",
     "iopub.status.busy": "2022-12-24T06:58:42.481642Z",
     "iopub.status.idle": "2022-12-24T06:58:42.509274Z",
     "shell.execute_reply": "2022-12-24T06:58:42.507899Z"
    },
    "papermill": {
     "duration": 0.049759,
     "end_time": "2022-12-24T06:58:42.512236",
     "exception": false,
     "start_time": "2022-12-24T06:58:42.462477",
     "status": "completed"
    },
    "tags": []
   },
   "outputs": [
    {
     "data": {
      "text/html": [
       "<div>\n",
       "<style scoped>\n",
       "    .dataframe tbody tr th:only-of-type {\n",
       "        vertical-align: middle;\n",
       "    }\n",
       "\n",
       "    .dataframe tbody tr th {\n",
       "        vertical-align: top;\n",
       "    }\n",
       "\n",
       "    .dataframe thead th {\n",
       "        text-align: right;\n",
       "    }\n",
       "</style>\n",
       "<table border=\"1\" class=\"dataframe\">\n",
       "  <thead>\n",
       "    <tr style=\"text-align: right;\">\n",
       "      <th></th>\n",
       "      <th>User_ID</th>\n",
       "      <th>Product_ID</th>\n",
       "      <th>Gender</th>\n",
       "      <th>Age</th>\n",
       "      <th>Occupation</th>\n",
       "      <th>City_Category</th>\n",
       "      <th>Stay_In_Current_City_Years</th>\n",
       "      <th>Marital_Status</th>\n",
       "      <th>Product_Category_1</th>\n",
       "      <th>Product_Category_2</th>\n",
       "      <th>Product_Category_3</th>\n",
       "    </tr>\n",
       "  </thead>\n",
       "  <tbody>\n",
       "    <tr>\n",
       "      <th>0</th>\n",
       "      <td>1000004</td>\n",
       "      <td>P00128942</td>\n",
       "      <td>M</td>\n",
       "      <td>46-50</td>\n",
       "      <td>7</td>\n",
       "      <td>B</td>\n",
       "      <td>2</td>\n",
       "      <td>1</td>\n",
       "      <td>1</td>\n",
       "      <td>11.0</td>\n",
       "      <td>NaN</td>\n",
       "    </tr>\n",
       "    <tr>\n",
       "      <th>1</th>\n",
       "      <td>1000009</td>\n",
       "      <td>P00113442</td>\n",
       "      <td>M</td>\n",
       "      <td>26-35</td>\n",
       "      <td>17</td>\n",
       "      <td>C</td>\n",
       "      <td>0</td>\n",
       "      <td>0</td>\n",
       "      <td>3</td>\n",
       "      <td>5.0</td>\n",
       "      <td>NaN</td>\n",
       "    </tr>\n",
       "    <tr>\n",
       "      <th>2</th>\n",
       "      <td>1000010</td>\n",
       "      <td>P00288442</td>\n",
       "      <td>F</td>\n",
       "      <td>36-45</td>\n",
       "      <td>1</td>\n",
       "      <td>B</td>\n",
       "      <td>4+</td>\n",
       "      <td>1</td>\n",
       "      <td>5</td>\n",
       "      <td>14.0</td>\n",
       "      <td>NaN</td>\n",
       "    </tr>\n",
       "    <tr>\n",
       "      <th>3</th>\n",
       "      <td>1000010</td>\n",
       "      <td>P00145342</td>\n",
       "      <td>F</td>\n",
       "      <td>36-45</td>\n",
       "      <td>1</td>\n",
       "      <td>B</td>\n",
       "      <td>4+</td>\n",
       "      <td>1</td>\n",
       "      <td>4</td>\n",
       "      <td>9.0</td>\n",
       "      <td>NaN</td>\n",
       "    </tr>\n",
       "    <tr>\n",
       "      <th>4</th>\n",
       "      <td>1000011</td>\n",
       "      <td>P00053842</td>\n",
       "      <td>F</td>\n",
       "      <td>26-35</td>\n",
       "      <td>1</td>\n",
       "      <td>C</td>\n",
       "      <td>1</td>\n",
       "      <td>0</td>\n",
       "      <td>4</td>\n",
       "      <td>5.0</td>\n",
       "      <td>12.0</td>\n",
       "    </tr>\n",
       "  </tbody>\n",
       "</table>\n",
       "</div>"
      ],
      "text/plain": [
       "   User_ID Product_ID Gender    Age  Occupation City_Category  \\\n",
       "0  1000004  P00128942      M  46-50           7             B   \n",
       "1  1000009  P00113442      M  26-35          17             C   \n",
       "2  1000010  P00288442      F  36-45           1             B   \n",
       "3  1000010  P00145342      F  36-45           1             B   \n",
       "4  1000011  P00053842      F  26-35           1             C   \n",
       "\n",
       "  Stay_In_Current_City_Years  Marital_Status  Product_Category_1  \\\n",
       "0                          2               1                   1   \n",
       "1                          0               0                   3   \n",
       "2                         4+               1                   5   \n",
       "3                         4+               1                   4   \n",
       "4                          1               0                   4   \n",
       "\n",
       "   Product_Category_2  Product_Category_3  \n",
       "0                11.0                 NaN  \n",
       "1                 5.0                 NaN  \n",
       "2                14.0                 NaN  \n",
       "3                 9.0                 NaN  \n",
       "4                 5.0                12.0  "
      ]
     },
     "execution_count": 5,
     "metadata": {},
     "output_type": "execute_result"
    }
   ],
   "source": [
    "#First look at test\n",
    "df_test.head()"
   ]
  },
  {
   "cell_type": "code",
   "execution_count": 6,
   "id": "ecd51e3f",
   "metadata": {
    "execution": {
     "iopub.execute_input": "2022-12-24T06:58:42.551724Z",
     "iopub.status.busy": "2022-12-24T06:58:42.550408Z",
     "iopub.status.idle": "2022-12-24T06:58:42.569490Z",
     "shell.execute_reply": "2022-12-24T06:58:42.567998Z"
    },
    "papermill": {
     "duration": 0.042421,
     "end_time": "2022-12-24T06:58:42.572576",
     "exception": false,
     "start_time": "2022-12-24T06:58:42.530155",
     "status": "completed"
    },
    "tags": []
   },
   "outputs": [
    {
     "data": {
      "text/html": [
       "<div>\n",
       "<style scoped>\n",
       "    .dataframe tbody tr th:only-of-type {\n",
       "        vertical-align: middle;\n",
       "    }\n",
       "\n",
       "    .dataframe tbody tr th {\n",
       "        vertical-align: top;\n",
       "    }\n",
       "\n",
       "    .dataframe thead th {\n",
       "        text-align: right;\n",
       "    }\n",
       "</style>\n",
       "<table border=\"1\" class=\"dataframe\">\n",
       "  <thead>\n",
       "    <tr style=\"text-align: right;\">\n",
       "      <th></th>\n",
       "      <th>User_ID</th>\n",
       "      <th>Product_ID</th>\n",
       "      <th>Gender</th>\n",
       "      <th>Age</th>\n",
       "      <th>Occupation</th>\n",
       "      <th>City_Category</th>\n",
       "      <th>Stay_In_Current_City_Years</th>\n",
       "      <th>Marital_Status</th>\n",
       "      <th>Product_Category_1</th>\n",
       "      <th>Product_Category_2</th>\n",
       "      <th>Product_Category_3</th>\n",
       "      <th>Purchase</th>\n",
       "    </tr>\n",
       "  </thead>\n",
       "  <tbody>\n",
       "    <tr>\n",
       "      <th>0</th>\n",
       "      <td>1000001</td>\n",
       "      <td>P00069042</td>\n",
       "      <td>F</td>\n",
       "      <td>0-17</td>\n",
       "      <td>10</td>\n",
       "      <td>A</td>\n",
       "      <td>2</td>\n",
       "      <td>0</td>\n",
       "      <td>3</td>\n",
       "      <td>NaN</td>\n",
       "      <td>NaN</td>\n",
       "      <td>8370</td>\n",
       "    </tr>\n",
       "    <tr>\n",
       "      <th>1</th>\n",
       "      <td>1000001</td>\n",
       "      <td>P00248942</td>\n",
       "      <td>F</td>\n",
       "      <td>0-17</td>\n",
       "      <td>10</td>\n",
       "      <td>A</td>\n",
       "      <td>2</td>\n",
       "      <td>0</td>\n",
       "      <td>1</td>\n",
       "      <td>6.0</td>\n",
       "      <td>14.0</td>\n",
       "      <td>15200</td>\n",
       "    </tr>\n",
       "    <tr>\n",
       "      <th>2</th>\n",
       "      <td>1000001</td>\n",
       "      <td>P00087842</td>\n",
       "      <td>F</td>\n",
       "      <td>0-17</td>\n",
       "      <td>10</td>\n",
       "      <td>A</td>\n",
       "      <td>2</td>\n",
       "      <td>0</td>\n",
       "      <td>12</td>\n",
       "      <td>NaN</td>\n",
       "      <td>NaN</td>\n",
       "      <td>1422</td>\n",
       "    </tr>\n",
       "    <tr>\n",
       "      <th>3</th>\n",
       "      <td>1000001</td>\n",
       "      <td>P00085442</td>\n",
       "      <td>F</td>\n",
       "      <td>0-17</td>\n",
       "      <td>10</td>\n",
       "      <td>A</td>\n",
       "      <td>2</td>\n",
       "      <td>0</td>\n",
       "      <td>12</td>\n",
       "      <td>14.0</td>\n",
       "      <td>NaN</td>\n",
       "      <td>1057</td>\n",
       "    </tr>\n",
       "    <tr>\n",
       "      <th>4</th>\n",
       "      <td>1000002</td>\n",
       "      <td>P00285442</td>\n",
       "      <td>M</td>\n",
       "      <td>55+</td>\n",
       "      <td>16</td>\n",
       "      <td>C</td>\n",
       "      <td>4+</td>\n",
       "      <td>0</td>\n",
       "      <td>8</td>\n",
       "      <td>NaN</td>\n",
       "      <td>NaN</td>\n",
       "      <td>7969</td>\n",
       "    </tr>\n",
       "  </tbody>\n",
       "</table>\n",
       "</div>"
      ],
      "text/plain": [
       "   User_ID Product_ID Gender   Age  Occupation City_Category  \\\n",
       "0  1000001  P00069042      F  0-17          10             A   \n",
       "1  1000001  P00248942      F  0-17          10             A   \n",
       "2  1000001  P00087842      F  0-17          10             A   \n",
       "3  1000001  P00085442      F  0-17          10             A   \n",
       "4  1000002  P00285442      M   55+          16             C   \n",
       "\n",
       "  Stay_In_Current_City_Years  Marital_Status  Product_Category_1  \\\n",
       "0                          2               0                   3   \n",
       "1                          2               0                   1   \n",
       "2                          2               0                  12   \n",
       "3                          2               0                  12   \n",
       "4                         4+               0                   8   \n",
       "\n",
       "   Product_Category_2  Product_Category_3  Purchase  \n",
       "0                 NaN                 NaN      8370  \n",
       "1                 6.0                14.0     15200  \n",
       "2                 NaN                 NaN      1422  \n",
       "3                14.0                 NaN      1057  \n",
       "4                 NaN                 NaN      7969  "
      ]
     },
     "execution_count": 6,
     "metadata": {},
     "output_type": "execute_result"
    }
   ],
   "source": [
    "#First look at train\n",
    "df_train.head(5)"
   ]
  },
  {
   "cell_type": "code",
   "execution_count": 7,
   "id": "71e21556",
   "metadata": {
    "execution": {
     "iopub.execute_input": "2022-12-24T06:58:42.611653Z",
     "iopub.status.busy": "2022-12-24T06:58:42.611213Z",
     "iopub.status.idle": "2022-12-24T06:58:42.617182Z",
     "shell.execute_reply": "2022-12-24T06:58:42.616222Z"
    },
    "papermill": {
     "duration": 0.02971,
     "end_time": "2022-12-24T06:58:42.620472",
     "exception": false,
     "start_time": "2022-12-24T06:58:42.590762",
     "status": "completed"
    },
    "tags": []
   },
   "outputs": [
    {
     "name": "stdout",
     "output_type": "stream",
     "text": [
      "There are 550068 rows and 12 colums in train data.\n",
      "There are 233599 rows and 11 colums in train data.\n"
     ]
    }
   ],
   "source": [
    "#First look at train \n",
    "print(\"There are {} rows and {} colums in train data.\".format(df_train.shape[0],df_train.shape[1]))\n",
    "print(\"There are {} rows and {} colums in train data.\".format(df_test.shape[0],df_test.shape[1]))"
   ]
  },
  {
   "cell_type": "code",
   "execution_count": 8,
   "id": "a5114e90",
   "metadata": {
    "execution": {
     "iopub.execute_input": "2022-12-24T06:58:42.660541Z",
     "iopub.status.busy": "2022-12-24T06:58:42.659349Z",
     "iopub.status.idle": "2022-12-24T06:58:42.810074Z",
     "shell.execute_reply": "2022-12-24T06:58:42.808356Z"
    },
    "papermill": {
     "duration": 0.174541,
     "end_time": "2022-12-24T06:58:42.813756",
     "exception": false,
     "start_time": "2022-12-24T06:58:42.639215",
     "status": "completed"
    },
    "tags": []
   },
   "outputs": [
    {
     "name": "stdout",
     "output_type": "stream",
     "text": [
      "<class 'pandas.core.frame.DataFrame'>\n",
      "RangeIndex: 550068 entries, 0 to 550067\n",
      "Data columns (total 12 columns):\n",
      " #   Column                      Non-Null Count   Dtype  \n",
      "---  ------                      --------------   -----  \n",
      " 0   User_ID                     550068 non-null  int64  \n",
      " 1   Product_ID                  550068 non-null  object \n",
      " 2   Gender                      550068 non-null  object \n",
      " 3   Age                         550068 non-null  object \n",
      " 4   Occupation                  550068 non-null  int64  \n",
      " 5   City_Category               550068 non-null  object \n",
      " 6   Stay_In_Current_City_Years  550068 non-null  object \n",
      " 7   Marital_Status              550068 non-null  int64  \n",
      " 8   Product_Category_1          550068 non-null  int64  \n",
      " 9   Product_Category_2          376430 non-null  float64\n",
      " 10  Product_Category_3          166821 non-null  float64\n",
      " 11  Purchase                    550068 non-null  int64  \n",
      "dtypes: float64(2), int64(5), object(5)\n",
      "memory usage: 50.4+ MB\n"
     ]
    }
   ],
   "source": [
    "#Check data types in train\n",
    "df_train.info()"
   ]
  },
  {
   "cell_type": "code",
   "execution_count": 9,
   "id": "8e8478ad",
   "metadata": {
    "execution": {
     "iopub.execute_input": "2022-12-24T06:58:42.853820Z",
     "iopub.status.busy": "2022-12-24T06:58:42.853377Z",
     "iopub.status.idle": "2022-12-24T06:58:42.918156Z",
     "shell.execute_reply": "2022-12-24T06:58:42.916878Z"
    },
    "papermill": {
     "duration": 0.091122,
     "end_time": "2022-12-24T06:58:42.923322",
     "exception": false,
     "start_time": "2022-12-24T06:58:42.832200",
     "status": "completed"
    },
    "tags": []
   },
   "outputs": [
    {
     "name": "stdout",
     "output_type": "stream",
     "text": [
      "<class 'pandas.core.frame.DataFrame'>\n",
      "RangeIndex: 233599 entries, 0 to 233598\n",
      "Data columns (total 11 columns):\n",
      " #   Column                      Non-Null Count   Dtype  \n",
      "---  ------                      --------------   -----  \n",
      " 0   User_ID                     233599 non-null  int64  \n",
      " 1   Product_ID                  233599 non-null  object \n",
      " 2   Gender                      233599 non-null  object \n",
      " 3   Age                         233599 non-null  object \n",
      " 4   Occupation                  233599 non-null  int64  \n",
      " 5   City_Category               233599 non-null  object \n",
      " 6   Stay_In_Current_City_Years  233599 non-null  object \n",
      " 7   Marital_Status              233599 non-null  int64  \n",
      " 8   Product_Category_1          233599 non-null  int64  \n",
      " 9   Product_Category_2          161255 non-null  float64\n",
      " 10  Product_Category_3          71037 non-null   float64\n",
      "dtypes: float64(2), int64(4), object(5)\n",
      "memory usage: 19.6+ MB\n"
     ]
    }
   ],
   "source": [
    "#Check data types in test\n",
    "df_test.info()"
   ]
  },
  {
   "cell_type": "code",
   "execution_count": 10,
   "id": "73c6ff9c",
   "metadata": {
    "execution": {
     "iopub.execute_input": "2022-12-24T06:58:42.964307Z",
     "iopub.status.busy": "2022-12-24T06:58:42.963773Z",
     "iopub.status.idle": "2022-12-24T06:58:42.970490Z",
     "shell.execute_reply": "2022-12-24T06:58:42.969102Z"
    },
    "papermill": {
     "duration": 0.030832,
     "end_time": "2022-12-24T06:58:42.973306",
     "exception": false,
     "start_time": "2022-12-24T06:58:42.942474",
     "status": "completed"
    },
    "tags": []
   },
   "outputs": [
    {
     "name": "stdout",
     "output_type": "stream",
     "text": [
      "Index(['User_ID', 'Product_ID', 'Gender', 'Age', 'Occupation', 'City_Category',\n",
      "       'Stay_In_Current_City_Years', 'Marital_Status', 'Product_Category_1',\n",
      "       'Product_Category_2', 'Product_Category_3', 'Purchase'],\n",
      "      dtype='object')\n",
      "Index(['User_ID', 'Product_ID', 'Gender', 'Age', 'Occupation', 'City_Category',\n",
      "       'Stay_In_Current_City_Years', 'Marital_Status', 'Product_Category_1',\n",
      "       'Product_Category_2', 'Product_Category_3'],\n",
      "      dtype='object')\n"
     ]
    }
   ],
   "source": [
    "print(df_train.columns)\n",
    "print(df_test.columns)"
   ]
  },
  {
   "cell_type": "code",
   "execution_count": 11,
   "id": "fad952dd",
   "metadata": {
    "execution": {
     "iopub.execute_input": "2022-12-24T06:58:43.013734Z",
     "iopub.status.busy": "2022-12-24T06:58:43.012874Z",
     "iopub.status.idle": "2022-12-24T06:58:43.226189Z",
     "shell.execute_reply": "2022-12-24T06:58:43.225160Z"
    },
    "papermill": {
     "duration": 0.237377,
     "end_time": "2022-12-24T06:58:43.229320",
     "exception": false,
     "start_time": "2022-12-24T06:58:42.991943",
     "status": "completed"
    },
    "tags": []
   },
   "outputs": [
    {
     "data": {
      "text/html": [
       "<div>\n",
       "<style scoped>\n",
       "    .dataframe tbody tr th:only-of-type {\n",
       "        vertical-align: middle;\n",
       "    }\n",
       "\n",
       "    .dataframe tbody tr th {\n",
       "        vertical-align: top;\n",
       "    }\n",
       "\n",
       "    .dataframe thead th {\n",
       "        text-align: right;\n",
       "    }\n",
       "</style>\n",
       "<table border=\"1\" class=\"dataframe\">\n",
       "  <thead>\n",
       "    <tr style=\"text-align: right;\">\n",
       "      <th></th>\n",
       "      <th>User_ID</th>\n",
       "      <th>Occupation</th>\n",
       "      <th>Marital_Status</th>\n",
       "      <th>Product_Category_1</th>\n",
       "      <th>Product_Category_2</th>\n",
       "      <th>Product_Category_3</th>\n",
       "      <th>Purchase</th>\n",
       "    </tr>\n",
       "  </thead>\n",
       "  <tbody>\n",
       "    <tr>\n",
       "      <th>count</th>\n",
       "      <td>5.500680e+05</td>\n",
       "      <td>550068.000000</td>\n",
       "      <td>550068.000000</td>\n",
       "      <td>550068.000000</td>\n",
       "      <td>376430.000000</td>\n",
       "      <td>166821.000000</td>\n",
       "      <td>550068.000000</td>\n",
       "    </tr>\n",
       "    <tr>\n",
       "      <th>mean</th>\n",
       "      <td>1.003029e+06</td>\n",
       "      <td>8.076707</td>\n",
       "      <td>0.409653</td>\n",
       "      <td>5.404270</td>\n",
       "      <td>9.842329</td>\n",
       "      <td>12.668243</td>\n",
       "      <td>9263.968713</td>\n",
       "    </tr>\n",
       "    <tr>\n",
       "      <th>std</th>\n",
       "      <td>1.727592e+03</td>\n",
       "      <td>6.522660</td>\n",
       "      <td>0.491770</td>\n",
       "      <td>3.936211</td>\n",
       "      <td>5.086590</td>\n",
       "      <td>4.125338</td>\n",
       "      <td>5023.065394</td>\n",
       "    </tr>\n",
       "    <tr>\n",
       "      <th>min</th>\n",
       "      <td>1.000001e+06</td>\n",
       "      <td>0.000000</td>\n",
       "      <td>0.000000</td>\n",
       "      <td>1.000000</td>\n",
       "      <td>2.000000</td>\n",
       "      <td>3.000000</td>\n",
       "      <td>12.000000</td>\n",
       "    </tr>\n",
       "    <tr>\n",
       "      <th>25%</th>\n",
       "      <td>1.001516e+06</td>\n",
       "      <td>2.000000</td>\n",
       "      <td>0.000000</td>\n",
       "      <td>1.000000</td>\n",
       "      <td>5.000000</td>\n",
       "      <td>9.000000</td>\n",
       "      <td>5823.000000</td>\n",
       "    </tr>\n",
       "    <tr>\n",
       "      <th>50%</th>\n",
       "      <td>1.003077e+06</td>\n",
       "      <td>7.000000</td>\n",
       "      <td>0.000000</td>\n",
       "      <td>5.000000</td>\n",
       "      <td>9.000000</td>\n",
       "      <td>14.000000</td>\n",
       "      <td>8047.000000</td>\n",
       "    </tr>\n",
       "    <tr>\n",
       "      <th>75%</th>\n",
       "      <td>1.004478e+06</td>\n",
       "      <td>14.000000</td>\n",
       "      <td>1.000000</td>\n",
       "      <td>8.000000</td>\n",
       "      <td>15.000000</td>\n",
       "      <td>16.000000</td>\n",
       "      <td>12054.000000</td>\n",
       "    </tr>\n",
       "    <tr>\n",
       "      <th>max</th>\n",
       "      <td>1.006040e+06</td>\n",
       "      <td>20.000000</td>\n",
       "      <td>1.000000</td>\n",
       "      <td>20.000000</td>\n",
       "      <td>18.000000</td>\n",
       "      <td>18.000000</td>\n",
       "      <td>23961.000000</td>\n",
       "    </tr>\n",
       "  </tbody>\n",
       "</table>\n",
       "</div>"
      ],
      "text/plain": [
       "            User_ID     Occupation  Marital_Status  Product_Category_1  \\\n",
       "count  5.500680e+05  550068.000000   550068.000000       550068.000000   \n",
       "mean   1.003029e+06       8.076707        0.409653            5.404270   \n",
       "std    1.727592e+03       6.522660        0.491770            3.936211   \n",
       "min    1.000001e+06       0.000000        0.000000            1.000000   \n",
       "25%    1.001516e+06       2.000000        0.000000            1.000000   \n",
       "50%    1.003077e+06       7.000000        0.000000            5.000000   \n",
       "75%    1.004478e+06      14.000000        1.000000            8.000000   \n",
       "max    1.006040e+06      20.000000        1.000000           20.000000   \n",
       "\n",
       "       Product_Category_2  Product_Category_3       Purchase  \n",
       "count       376430.000000       166821.000000  550068.000000  \n",
       "mean             9.842329           12.668243    9263.968713  \n",
       "std              5.086590            4.125338    5023.065394  \n",
       "min              2.000000            3.000000      12.000000  \n",
       "25%              5.000000            9.000000    5823.000000  \n",
       "50%              9.000000           14.000000    8047.000000  \n",
       "75%             15.000000           16.000000   12054.000000  \n",
       "max             18.000000           18.000000   23961.000000  "
      ]
     },
     "execution_count": 11,
     "metadata": {},
     "output_type": "execute_result"
    }
   ],
   "source": [
    "#Lets describe train\n",
    "df_train.describe()"
   ]
  },
  {
   "cell_type": "code",
   "execution_count": 12,
   "id": "179d95aa",
   "metadata": {
    "execution": {
     "iopub.execute_input": "2022-12-24T06:58:43.270595Z",
     "iopub.status.busy": "2022-12-24T06:58:43.269475Z",
     "iopub.status.idle": "2022-12-24T06:58:43.368359Z",
     "shell.execute_reply": "2022-12-24T06:58:43.367302Z"
    },
    "papermill": {
     "duration": 0.122315,
     "end_time": "2022-12-24T06:58:43.371188",
     "exception": false,
     "start_time": "2022-12-24T06:58:43.248873",
     "status": "completed"
    },
    "tags": []
   },
   "outputs": [
    {
     "data": {
      "text/html": [
       "<div>\n",
       "<style scoped>\n",
       "    .dataframe tbody tr th:only-of-type {\n",
       "        vertical-align: middle;\n",
       "    }\n",
       "\n",
       "    .dataframe tbody tr th {\n",
       "        vertical-align: top;\n",
       "    }\n",
       "\n",
       "    .dataframe thead th {\n",
       "        text-align: right;\n",
       "    }\n",
       "</style>\n",
       "<table border=\"1\" class=\"dataframe\">\n",
       "  <thead>\n",
       "    <tr style=\"text-align: right;\">\n",
       "      <th></th>\n",
       "      <th>User_ID</th>\n",
       "      <th>Occupation</th>\n",
       "      <th>Marital_Status</th>\n",
       "      <th>Product_Category_1</th>\n",
       "      <th>Product_Category_2</th>\n",
       "      <th>Product_Category_3</th>\n",
       "    </tr>\n",
       "  </thead>\n",
       "  <tbody>\n",
       "    <tr>\n",
       "      <th>count</th>\n",
       "      <td>2.335990e+05</td>\n",
       "      <td>233599.000000</td>\n",
       "      <td>233599.000000</td>\n",
       "      <td>233599.000000</td>\n",
       "      <td>161255.000000</td>\n",
       "      <td>71037.000000</td>\n",
       "    </tr>\n",
       "    <tr>\n",
       "      <th>mean</th>\n",
       "      <td>1.003029e+06</td>\n",
       "      <td>8.085407</td>\n",
       "      <td>0.410070</td>\n",
       "      <td>5.276542</td>\n",
       "      <td>9.849586</td>\n",
       "      <td>12.669454</td>\n",
       "    </tr>\n",
       "    <tr>\n",
       "      <th>std</th>\n",
       "      <td>1.726505e+03</td>\n",
       "      <td>6.521146</td>\n",
       "      <td>0.491847</td>\n",
       "      <td>3.736380</td>\n",
       "      <td>5.094943</td>\n",
       "      <td>4.125944</td>\n",
       "    </tr>\n",
       "    <tr>\n",
       "      <th>min</th>\n",
       "      <td>1.000001e+06</td>\n",
       "      <td>0.000000</td>\n",
       "      <td>0.000000</td>\n",
       "      <td>1.000000</td>\n",
       "      <td>2.000000</td>\n",
       "      <td>3.000000</td>\n",
       "    </tr>\n",
       "    <tr>\n",
       "      <th>25%</th>\n",
       "      <td>1.001527e+06</td>\n",
       "      <td>2.000000</td>\n",
       "      <td>0.000000</td>\n",
       "      <td>1.000000</td>\n",
       "      <td>5.000000</td>\n",
       "      <td>9.000000</td>\n",
       "    </tr>\n",
       "    <tr>\n",
       "      <th>50%</th>\n",
       "      <td>1.003070e+06</td>\n",
       "      <td>7.000000</td>\n",
       "      <td>0.000000</td>\n",
       "      <td>5.000000</td>\n",
       "      <td>9.000000</td>\n",
       "      <td>14.000000</td>\n",
       "    </tr>\n",
       "    <tr>\n",
       "      <th>75%</th>\n",
       "      <td>1.004477e+06</td>\n",
       "      <td>14.000000</td>\n",
       "      <td>1.000000</td>\n",
       "      <td>8.000000</td>\n",
       "      <td>15.000000</td>\n",
       "      <td>16.000000</td>\n",
       "    </tr>\n",
       "    <tr>\n",
       "      <th>max</th>\n",
       "      <td>1.006040e+06</td>\n",
       "      <td>20.000000</td>\n",
       "      <td>1.000000</td>\n",
       "      <td>18.000000</td>\n",
       "      <td>18.000000</td>\n",
       "      <td>18.000000</td>\n",
       "    </tr>\n",
       "  </tbody>\n",
       "</table>\n",
       "</div>"
      ],
      "text/plain": [
       "            User_ID     Occupation  Marital_Status  Product_Category_1  \\\n",
       "count  2.335990e+05  233599.000000   233599.000000       233599.000000   \n",
       "mean   1.003029e+06       8.085407        0.410070            5.276542   \n",
       "std    1.726505e+03       6.521146        0.491847            3.736380   \n",
       "min    1.000001e+06       0.000000        0.000000            1.000000   \n",
       "25%    1.001527e+06       2.000000        0.000000            1.000000   \n",
       "50%    1.003070e+06       7.000000        0.000000            5.000000   \n",
       "75%    1.004477e+06      14.000000        1.000000            8.000000   \n",
       "max    1.006040e+06      20.000000        1.000000           18.000000   \n",
       "\n",
       "       Product_Category_2  Product_Category_3  \n",
       "count       161255.000000        71037.000000  \n",
       "mean             9.849586           12.669454  \n",
       "std              5.094943            4.125944  \n",
       "min              2.000000            3.000000  \n",
       "25%              5.000000            9.000000  \n",
       "50%              9.000000           14.000000  \n",
       "75%             15.000000           16.000000  \n",
       "max             18.000000           18.000000  "
      ]
     },
     "execution_count": 12,
     "metadata": {},
     "output_type": "execute_result"
    }
   ],
   "source": [
    "#Lets describe test\n",
    "df_test.describe()"
   ]
  },
  {
   "cell_type": "code",
   "execution_count": 13,
   "id": "b330d931",
   "metadata": {
    "execution": {
     "iopub.execute_input": "2022-12-24T06:58:43.415052Z",
     "iopub.status.busy": "2022-12-24T06:58:43.414242Z",
     "iopub.status.idle": "2022-12-24T06:58:43.548888Z",
     "shell.execute_reply": "2022-12-24T06:58:43.547326Z"
    },
    "papermill": {
     "duration": 0.159834,
     "end_time": "2022-12-24T06:58:43.551764",
     "exception": false,
     "start_time": "2022-12-24T06:58:43.391930",
     "status": "completed"
    },
    "tags": []
   },
   "outputs": [
    {
     "data": {
      "text/plain": [
       "User_ID                            0\n",
       "Product_ID                         0\n",
       "Gender                             0\n",
       "Age                                0\n",
       "Occupation                         0\n",
       "City_Category                      0\n",
       "Stay_In_Current_City_Years         0\n",
       "Marital_Status                     0\n",
       "Product_Category_1                 0\n",
       "Product_Category_2            173638\n",
       "Product_Category_3            383247\n",
       "Purchase                           0\n",
       "dtype: int64"
      ]
     },
     "execution_count": 13,
     "metadata": {},
     "output_type": "execute_result"
    }
   ],
   "source": [
    "#Check Missing values in train\n",
    "df_train.isnull().sum()"
   ]
  },
  {
   "cell_type": "code",
   "execution_count": 14,
   "id": "a0bb0ba3",
   "metadata": {
    "execution": {
     "iopub.execute_input": "2022-12-24T06:58:43.595479Z",
     "iopub.status.busy": "2022-12-24T06:58:43.594276Z",
     "iopub.status.idle": "2022-12-24T06:58:43.656415Z",
     "shell.execute_reply": "2022-12-24T06:58:43.654909Z"
    },
    "papermill": {
     "duration": 0.08606,
     "end_time": "2022-12-24T06:58:43.659395",
     "exception": false,
     "start_time": "2022-12-24T06:58:43.573335",
     "status": "completed"
    },
    "tags": []
   },
   "outputs": [
    {
     "data": {
      "text/plain": [
       "User_ID                            0\n",
       "Product_ID                         0\n",
       "Gender                             0\n",
       "Age                                0\n",
       "Occupation                         0\n",
       "City_Category                      0\n",
       "Stay_In_Current_City_Years         0\n",
       "Marital_Status                     0\n",
       "Product_Category_1                 0\n",
       "Product_Category_2             72344\n",
       "Product_Category_3            162562\n",
       "dtype: int64"
      ]
     },
     "execution_count": 14,
     "metadata": {},
     "output_type": "execute_result"
    }
   ],
   "source": [
    "#Check Missing values in test\n",
    "df_test.isnull().sum()"
   ]
  },
  {
   "cell_type": "markdown",
   "id": "a0d20d70",
   "metadata": {
    "papermill": {
     "duration": 0.019682,
     "end_time": "2022-12-24T06:58:43.699372",
     "exception": false,
     "start_time": "2022-12-24T06:58:43.679690",
     "status": "completed"
    },
    "tags": []
   },
   "source": [
    "Product Category 2 and Product Category 3 has missing values in both train and test dataset."
   ]
  },
  {
   "cell_type": "code",
   "execution_count": 15,
   "id": "b12caf85",
   "metadata": {
    "execution": {
     "iopub.execute_input": "2022-12-24T06:58:43.744774Z",
     "iopub.status.busy": "2022-12-24T06:58:43.743830Z",
     "iopub.status.idle": "2022-12-24T06:58:43.887686Z",
     "shell.execute_reply": "2022-12-24T06:58:43.886251Z"
    },
    "papermill": {
     "duration": 0.171472,
     "end_time": "2022-12-24T06:58:43.890921",
     "exception": false,
     "start_time": "2022-12-24T06:58:43.719449",
     "status": "completed"
    },
    "tags": []
   },
   "outputs": [
    {
     "data": {
      "text/plain": [
       "(783667, 12)"
      ]
     },
     "execution_count": 15,
     "metadata": {},
     "output_type": "execute_result"
    }
   ],
   "source": [
    "#Lets concatenate train & test\n",
    "df=pd.concat([df_train,df_test])\n",
    "df.shape "
   ]
  },
  {
   "cell_type": "markdown",
   "id": "b72286e8",
   "metadata": {
    "papermill": {
     "duration": 0.019343,
     "end_time": "2022-12-24T06:58:43.930579",
     "exception": false,
     "start_time": "2022-12-24T06:58:43.911236",
     "status": "completed"
    },
    "tags": []
   },
   "source": [
    "# **Data Cleaning**"
   ]
  },
  {
   "cell_type": "code",
   "execution_count": 16,
   "id": "f3eb8d64",
   "metadata": {
    "execution": {
     "iopub.execute_input": "2022-12-24T06:58:43.973437Z",
     "iopub.status.busy": "2022-12-24T06:58:43.972369Z",
     "iopub.status.idle": "2022-12-24T06:58:44.176877Z",
     "shell.execute_reply": "2022-12-24T06:58:44.175014Z"
    },
    "papermill": {
     "duration": 0.229795,
     "end_time": "2022-12-24T06:58:44.179674",
     "exception": false,
     "start_time": "2022-12-24T06:58:43.949879",
     "status": "completed"
    },
    "tags": []
   },
   "outputs": [
    {
     "name": "stdout",
     "output_type": "stream",
     "text": [
      "Unique Values of Gender:  ['F' 'M']\n",
      "\n",
      "Unique Values of City_Category:  ['A' 'C' 'B']\n",
      "\n",
      "Unique Values of Age:  ['0-17' '55+' '26-35' '46-50' '51-55' '36-45' '18-25']\n",
      "\n",
      "Unique Values of Occupation:  [10 16 15  7 20  9  1 12 17  0  3  4 11  8 19  2 18  5 14 13  6]\n",
      "\n",
      "Unique Values of Marital_Status:  [0 1]\n",
      "\n",
      "Unique Values of Product_Category_1:  [ 3  1 12  8  5  4  2  6 14 11 13 15  7 16 18 10 17  9 20 19]\n",
      "\n",
      "Unique Values of Product_Category_2:  [nan  6. 14.  2.  8. 15. 16. 11.  5.  3.  4. 12.  9. 10. 17. 13.  7. 18.]\n",
      "\n",
      "Unique Values of Product_Category_3:  [nan 14. 17.  5.  4. 16. 15.  8.  9. 13.  6. 12.  3. 18. 11. 10.]\n"
     ]
    }
   ],
   "source": [
    "#Exploring Unique values of each variable\n",
    "print(\"Unique Values of Gender: \",df['Gender'].unique())\n",
    "print(\"\\nUnique Values of City_Category: \",df[\"City_Category\"].unique())\n",
    "print(\"\\nUnique Values of Age: \",df[\"Age\"].unique())\n",
    "print(\"\\nUnique Values of Occupation: \",df[\"Occupation\"].unique())\n",
    "print(\"\\nUnique Values of Marital_Status: \",df[\"Marital_Status\"].unique())\n",
    "print(\"\\nUnique Values of Product_Category_1: \",df[\"Product_Category_1\"].unique())\n",
    "print(\"\\nUnique Values of Product_Category_2: \",df[\"Product_Category_2\"].unique())\n",
    "print(\"\\nUnique Values of Product_Category_3: \",df[\"Product_Category_3\"].unique())"
   ]
  },
  {
   "cell_type": "code",
   "execution_count": 17,
   "id": "b59f077e",
   "metadata": {
    "execution": {
     "iopub.execute_input": "2022-12-24T06:58:44.221771Z",
     "iopub.status.busy": "2022-12-24T06:58:44.220405Z",
     "iopub.status.idle": "2022-12-24T06:58:44.262970Z",
     "shell.execute_reply": "2022-12-24T06:58:44.261567Z"
    },
    "papermill": {
     "duration": 0.066358,
     "end_time": "2022-12-24T06:58:44.265651",
     "exception": false,
     "start_time": "2022-12-24T06:58:44.199293",
     "status": "completed"
    },
    "tags": []
   },
   "outputs": [
    {
     "name": "stdout",
     "output_type": "stream",
     "text": [
      "Product Category 1\n",
      " 5     215950\n",
      "1     200699\n",
      "8     162294\n",
      "11     34440\n",
      "2      34056\n",
      "6      29326\n",
      "3      28791\n",
      "4      16756\n",
      "16     13933\n",
      "15      8984\n",
      "13      7930\n",
      "10      7373\n",
      "12      5610\n",
      "7       5345\n",
      "18      4436\n",
      "20      2550\n",
      "14      2186\n",
      "19      1603\n",
      "17       801\n",
      "9        604\n",
      "Name: Product_Category_1, dtype: int64\n",
      "\n",
      "Product Category 2\n",
      " 8.0     91317\n",
      "14.0    78834\n",
      "2.0     70498\n",
      "16.0    61687\n",
      "15.0    54114\n",
      "5.0     37165\n",
      "4.0     36705\n",
      "6.0     23575\n",
      "11.0    20230\n",
      "17.0    19104\n",
      "13.0    15054\n",
      "9.0      8177\n",
      "12.0     7801\n",
      "10.0     4420\n",
      "3.0      4123\n",
      "18.0     4027\n",
      "7.0       854\n",
      "Name: Product_Category_2, dtype: int64\n",
      "\n",
      "Product Category 3\n",
      " 16.0    46469\n",
      "15.0    39968\n",
      "14.0    26283\n",
      "17.0    23818\n",
      "5.0     23799\n",
      "8.0     17861\n",
      "9.0     16532\n",
      "12.0    13115\n",
      "13.0     7849\n",
      "6.0      6888\n",
      "18.0     6621\n",
      "4.0      2691\n",
      "11.0     2585\n",
      "10.0     2501\n",
      "3.0       878\n",
      "Name: Product_Category_3, dtype: int64\n"
     ]
    }
   ],
   "source": [
    "#value count of product category\n",
    "print(\"Product Category 1\\n\",df.Product_Category_1.value_counts())\n",
    "print(\"\\nProduct Category 2\\n\",df.Product_Category_2.value_counts())\n",
    "print(\"\\nProduct Category 3\\n\",df.Product_Category_3.value_counts())"
   ]
  },
  {
   "cell_type": "code",
   "execution_count": 18,
   "id": "bdbb522a",
   "metadata": {
    "execution": {
     "iopub.execute_input": "2022-12-24T06:58:44.308384Z",
     "iopub.status.busy": "2022-12-24T06:58:44.307903Z",
     "iopub.status.idle": "2022-12-24T06:58:44.331010Z",
     "shell.execute_reply": "2022-12-24T06:58:44.329716Z"
    },
    "papermill": {
     "duration": 0.048298,
     "end_time": "2022-12-24T06:58:44.334059",
     "exception": false,
     "start_time": "2022-12-24T06:58:44.285761",
     "status": "completed"
    },
    "tags": []
   },
   "outputs": [],
   "source": [
    "#fill the missing values of Product Category 2\n",
    "df[\"Product_Category_2\"].fillna(df[\"Product_Category_2\"].mode()[0],inplace=True)"
   ]
  },
  {
   "cell_type": "code",
   "execution_count": 19,
   "id": "c2e18963",
   "metadata": {
    "execution": {
     "iopub.execute_input": "2022-12-24T06:58:44.378656Z",
     "iopub.status.busy": "2022-12-24T06:58:44.377668Z",
     "iopub.status.idle": "2022-12-24T06:58:44.397349Z",
     "shell.execute_reply": "2022-12-24T06:58:44.395930Z"
    },
    "papermill": {
     "duration": 0.045632,
     "end_time": "2022-12-24T06:58:44.400689",
     "exception": false,
     "start_time": "2022-12-24T06:58:44.355057",
     "status": "completed"
    },
    "tags": []
   },
   "outputs": [],
   "source": [
    "#fill the missing values of Product Category 3\n",
    "df[\"Product_Category_3\"].fillna(df[\"Product_Category_3\"].mode()[0],inplace=True)"
   ]
  },
  {
   "cell_type": "code",
   "execution_count": 20,
   "id": "3f31ab6f",
   "metadata": {
    "execution": {
     "iopub.execute_input": "2022-12-24T06:58:44.449199Z",
     "iopub.status.busy": "2022-12-24T06:58:44.448755Z",
     "iopub.status.idle": "2022-12-24T06:58:44.459714Z",
     "shell.execute_reply": "2022-12-24T06:58:44.458441Z"
    },
    "papermill": {
     "duration": 0.035452,
     "end_time": "2022-12-24T06:58:44.462416",
     "exception": false,
     "start_time": "2022-12-24T06:58:44.426964",
     "status": "completed"
    },
    "tags": []
   },
   "outputs": [
    {
     "data": {
      "text/plain": [
       "(False, False)"
      ]
     },
     "execution_count": 20,
     "metadata": {},
     "output_type": "execute_result"
    }
   ],
   "source": [
    "df[\"Product_Category_2\"].hasnans,df[\"Product_Category_3\"].hasnans"
   ]
  },
  {
   "cell_type": "code",
   "execution_count": 21,
   "id": "6931155c",
   "metadata": {
    "execution": {
     "iopub.execute_input": "2022-12-24T06:58:44.505168Z",
     "iopub.status.busy": "2022-12-24T06:58:44.504691Z",
     "iopub.status.idle": "2022-12-24T06:58:44.563170Z",
     "shell.execute_reply": "2022-12-24T06:58:44.561863Z"
    },
    "papermill": {
     "duration": 0.083668,
     "end_time": "2022-12-24T06:58:44.565985",
     "exception": false,
     "start_time": "2022-12-24T06:58:44.482317",
     "status": "completed"
    },
    "tags": []
   },
   "outputs": [
    {
     "data": {
      "text/plain": [
       "array(['2', '4+', '3', '1', '0'], dtype=object)"
      ]
     },
     "execution_count": 21,
     "metadata": {},
     "output_type": "execute_result"
    }
   ],
   "source": [
    "#Exploring unique values - Stay_In_Current_City_Years\n",
    "df.Stay_In_Current_City_Years.unique()"
   ]
  },
  {
   "cell_type": "code",
   "execution_count": 22,
   "id": "103db7e7",
   "metadata": {
    "execution": {
     "iopub.execute_input": "2022-12-24T06:58:44.609408Z",
     "iopub.status.busy": "2022-12-24T06:58:44.608427Z",
     "iopub.status.idle": "2022-12-24T06:58:44.892688Z",
     "shell.execute_reply": "2022-12-24T06:58:44.891228Z"
    },
    "papermill": {
     "duration": 0.308685,
     "end_time": "2022-12-24T06:58:44.895723",
     "exception": false,
     "start_time": "2022-12-24T06:58:44.587038",
     "status": "completed"
    },
    "tags": []
   },
   "outputs": [],
   "source": [
    "#Removing \"+\" symbol\n",
    "df.Stay_In_Current_City_Years=df_train.Stay_In_Current_City_Years.str.replace(\"+\",\"\")"
   ]
  },
  {
   "cell_type": "code",
   "execution_count": 23,
   "id": "2c421b90",
   "metadata": {
    "execution": {
     "iopub.execute_input": "2022-12-24T06:58:44.939564Z",
     "iopub.status.busy": "2022-12-24T06:58:44.939082Z",
     "iopub.status.idle": "2022-12-24T06:58:44.997135Z",
     "shell.execute_reply": "2022-12-24T06:58:44.995825Z"
    },
    "papermill": {
     "duration": 0.083461,
     "end_time": "2022-12-24T06:58:45.000248",
     "exception": false,
     "start_time": "2022-12-24T06:58:44.916787",
     "status": "completed"
    },
    "tags": []
   },
   "outputs": [
    {
     "data": {
      "text/plain": [
       "array(['2', '4', '3', '1', '0'], dtype=object)"
      ]
     },
     "execution_count": 23,
     "metadata": {},
     "output_type": "execute_result"
    }
   ],
   "source": [
    "df.Stay_In_Current_City_Years.unique()"
   ]
  },
  {
   "cell_type": "code",
   "execution_count": 24,
   "id": "783c2237",
   "metadata": {
    "execution": {
     "iopub.execute_input": "2022-12-24T06:58:45.043677Z",
     "iopub.status.busy": "2022-12-24T06:58:45.043193Z",
     "iopub.status.idle": "2022-12-24T06:58:45.134936Z",
     "shell.execute_reply": "2022-12-24T06:58:45.133975Z"
    },
    "papermill": {
     "duration": 0.116824,
     "end_time": "2022-12-24T06:58:45.137589",
     "exception": false,
     "start_time": "2022-12-24T06:58:45.020765",
     "status": "completed"
    },
    "tags": []
   },
   "outputs": [],
   "source": [
    "#Conveting object to int\n",
    "df[\"Stay_In_Current_City_Years\"]=df['Stay_In_Current_City_Years'].astype(int)"
   ]
  },
  {
   "cell_type": "code",
   "execution_count": 25,
   "id": "1e6f7c7b",
   "metadata": {
    "execution": {
     "iopub.execute_input": "2022-12-24T06:58:45.181321Z",
     "iopub.status.busy": "2022-12-24T06:58:45.180591Z",
     "iopub.status.idle": "2022-12-24T06:58:45.387352Z",
     "shell.execute_reply": "2022-12-24T06:58:45.386253Z"
    },
    "papermill": {
     "duration": 0.232042,
     "end_time": "2022-12-24T06:58:45.390118",
     "exception": false,
     "start_time": "2022-12-24T06:58:45.158076",
     "status": "completed"
    },
    "tags": []
   },
   "outputs": [],
   "source": [
    "#Let's drop the column User_ID\n",
    "df.drop(['User_ID'],axis=1,inplace=True)"
   ]
  },
  {
   "cell_type": "code",
   "execution_count": 26,
   "id": "95921def",
   "metadata": {
    "execution": {
     "iopub.execute_input": "2022-12-24T06:58:45.434920Z",
     "iopub.status.busy": "2022-12-24T06:58:45.433982Z",
     "iopub.status.idle": "2022-12-24T06:58:45.590510Z",
     "shell.execute_reply": "2022-12-24T06:58:45.588359Z"
    },
    "papermill": {
     "duration": 0.181555,
     "end_time": "2022-12-24T06:58:45.593697",
     "exception": false,
     "start_time": "2022-12-24T06:58:45.412142",
     "status": "completed"
    },
    "tags": []
   },
   "outputs": [
    {
     "name": "stdout",
     "output_type": "stream",
     "text": [
      "<class 'pandas.core.frame.DataFrame'>\n",
      "Int64Index: 783667 entries, 0 to 233598\n",
      "Data columns (total 11 columns):\n",
      " #   Column                      Non-Null Count   Dtype  \n",
      "---  ------                      --------------   -----  \n",
      " 0   Product_ID                  783667 non-null  object \n",
      " 1   Gender                      783667 non-null  object \n",
      " 2   Age                         783667 non-null  object \n",
      " 3   Occupation                  783667 non-null  int64  \n",
      " 4   City_Category               783667 non-null  object \n",
      " 5   Stay_In_Current_City_Years  783667 non-null  int64  \n",
      " 6   Marital_Status              783667 non-null  int64  \n",
      " 7   Product_Category_1          783667 non-null  int64  \n",
      " 8   Product_Category_2          783667 non-null  float64\n",
      " 9   Product_Category_3          783667 non-null  float64\n",
      " 10  Purchase                    550068 non-null  float64\n",
      "dtypes: float64(3), int64(4), object(4)\n",
      "memory usage: 71.7+ MB\n"
     ]
    }
   ],
   "source": [
    "#Information of dtype and other\n",
    "df.info()"
   ]
  },
  {
   "cell_type": "code",
   "execution_count": 27,
   "id": "599c5dfc",
   "metadata": {
    "execution": {
     "iopub.execute_input": "2022-12-24T06:58:45.637588Z",
     "iopub.status.busy": "2022-12-24T06:58:45.636710Z",
     "iopub.status.idle": "2022-12-24T06:58:45.704428Z",
     "shell.execute_reply": "2022-12-24T06:58:45.703159Z"
    },
    "papermill": {
     "duration": 0.093039,
     "end_time": "2022-12-24T06:58:45.707424",
     "exception": false,
     "start_time": "2022-12-24T06:58:45.614385",
     "status": "completed"
    },
    "tags": []
   },
   "outputs": [
    {
     "data": {
      "text/plain": [
       "P00265242    2709\n",
       "P00025442    2310\n",
       "P00110742    2292\n",
       "P00112142    2279\n",
       "P00046742    2084\n",
       "             ... \n",
       "P00185942       1\n",
       "P00104342       1\n",
       "P00074742       1\n",
       "P00081342       1\n",
       "P00253842       1\n",
       "Name: Product_ID, Length: 3677, dtype: int64"
      ]
     },
     "execution_count": 27,
     "metadata": {},
     "output_type": "execute_result"
    }
   ],
   "source": [
    "df[\"Product_ID\"].value_counts()"
   ]
  },
  {
   "cell_type": "code",
   "execution_count": 28,
   "id": "bb0fd9ad",
   "metadata": {
    "execution": {
     "iopub.execute_input": "2022-12-24T06:58:45.752852Z",
     "iopub.status.busy": "2022-12-24T06:58:45.751458Z",
     "iopub.status.idle": "2022-12-24T06:58:45.761192Z",
     "shell.execute_reply": "2022-12-24T06:58:45.759291Z"
    },
    "papermill": {
     "duration": 0.034729,
     "end_time": "2022-12-24T06:58:45.764189",
     "exception": false,
     "start_time": "2022-12-24T06:58:45.729460",
     "status": "completed"
    },
    "tags": []
   },
   "outputs": [
    {
     "data": {
      "text/plain": [
       "True"
      ]
     },
     "execution_count": 28,
     "metadata": {},
     "output_type": "execute_result"
    }
   ],
   "source": [
    "df[\"Purchase\"].hasnans"
   ]
  },
  {
   "cell_type": "markdown",
   "id": "cf89fd1a",
   "metadata": {
    "papermill": {
     "duration": 0.02115,
     "end_time": "2022-12-24T06:58:45.806189",
     "exception": false,
     "start_time": "2022-12-24T06:58:45.785039",
     "status": "completed"
    },
    "tags": []
   },
   "source": [
    "# **Data Visualization**"
   ]
  },
  {
   "cell_type": "code",
   "execution_count": 29,
   "id": "69799e5d",
   "metadata": {
    "execution": {
     "iopub.execute_input": "2022-12-24T06:58:45.849328Z",
     "iopub.status.busy": "2022-12-24T06:58:45.848222Z",
     "iopub.status.idle": "2022-12-24T06:58:46.136735Z",
     "shell.execute_reply": "2022-12-24T06:58:46.134988Z"
    },
    "papermill": {
     "duration": 0.314963,
     "end_time": "2022-12-24T06:58:46.141849",
     "exception": false,
     "start_time": "2022-12-24T06:58:45.826886",
     "status": "completed"
    },
    "tags": []
   },
   "outputs": [
    {
     "data": {
      "text/plain": [
       "Text(0.5, 1.0, 'Top 5 Product_ID by Puchase')"
      ]
     },
     "execution_count": 29,
     "metadata": {},
     "output_type": "execute_result"
    },
    {
     "data": {
      "image/png": "[encoded data removed]",
      "text/plain": [
       "<Figure size 432x288 with 1 Axes>"
      ]
     },
     "metadata": {},
     "output_type": "display_data"
    }
   ],
   "source": [
    "#Top 5 Product_ID by Purchase\n",
    "df.groupby(\"Product_ID\")[\"Purchase\"].mean().sort_values(ascending=False).head(5).plot(kind=\"pie\",ylabel=\" \",autopct='%1.2f%%')\n",
    "plt.title(\"Top 5 Product_ID by Puchase\")"
   ]
  },
  {
   "cell_type": "markdown",
   "id": "27a7a19a",
   "metadata": {
    "papermill": {
     "duration": 0.026794,
     "end_time": "2022-12-24T06:58:46.224364",
     "exception": false,
     "start_time": "2022-12-24T06:58:46.197570",
     "status": "completed"
    },
    "tags": []
   },
   "source": [
    "Product_ID P00086242 is maximum purchased by customers."
   ]
  },
  {
   "cell_type": "code",
   "execution_count": 30,
   "id": "51babec2",
   "metadata": {
    "execution": {
     "iopub.execute_input": "2022-12-24T06:58:46.268440Z",
     "iopub.status.busy": "2022-12-24T06:58:46.267638Z",
     "iopub.status.idle": "2022-12-24T06:58:47.679597Z",
     "shell.execute_reply": "2022-12-24T06:58:47.678545Z"
    },
    "papermill": {
     "duration": 1.437095,
     "end_time": "2022-12-24T06:58:47.682304",
     "exception": false,
     "start_time": "2022-12-24T06:58:46.245209",
     "status": "completed"
    },
    "tags": []
   },
   "outputs": [
    {
     "data": {
      "image/png": "[encoded data removed]",
      "text/plain": [
       "<Figure size 1152x360 with 3 Axes>"
      ]
     },
     "metadata": {
      "needs_background": "light"
     },
     "output_type": "display_data"
    }
   ],
   "source": [
    "#Bar plot of Product Categories and Gender\n",
    "fig, axis=plt.subplots(1,3,figsize=(16,5))\n",
    "color_list=[\"aqua\",\"darkturquoise\"]\n",
    "pd.crosstab(df[\"Product_Category_1\"],df[\"Gender\"]).plot(kind=\"bar\",ax=axis[0],xlim=[0,1],color=color_list)\n",
    "axis[0].set_title(\"Product 1\")\n",
    "pd.crosstab(df[\"Product_Category_2\"],df[\"Gender\"]).plot(kind=\"bar\",ax=axis[1],xlim=[0,1],color=color_list)\n",
    "axis[1].set_title(\"Product 2\")\n",
    "pd.crosstab(df[\"Product_Category_3\"],df[\"Gender\"]).plot(kind=\"bar\",ax=axis[2],xlim=[0,1],color=color_list)\n",
    "axis[2].set_title(\"Product 3\")\n",
    "plt.suptitle(\"Product Categories by Gender\")\n",
    "plt.show()"
   ]
  },
  {
   "cell_type": "markdown",
   "id": "5c221e62",
   "metadata": {
    "papermill": {
     "duration": 0.021746,
     "end_time": "2022-12-24T06:58:47.726959",
     "exception": false,
     "start_time": "2022-12-24T06:58:47.705213",
     "status": "completed"
    },
    "tags": []
   },
   "source": [
    "* In product category 1 the maximum purchased product number is 1,5 and 8 which has large male customers.\n",
    "* In product category 2 the maximum purchased product number is 8 which has large male customers.\n",
    "* In product category 3 the maximum purchased product number is 16 which has large male customers."
   ]
  },
  {
   "cell_type": "code",
   "execution_count": 31,
   "id": "00837999",
   "metadata": {
    "execution": {
     "iopub.execute_input": "2022-12-24T06:58:47.774974Z",
     "iopub.status.busy": "2022-12-24T06:58:47.774089Z",
     "iopub.status.idle": "2022-12-24T06:58:50.334722Z",
     "shell.execute_reply": "2022-12-24T06:58:50.333377Z"
    },
    "papermill": {
     "duration": 2.588512,
     "end_time": "2022-12-24T06:58:50.337705",
     "exception": false,
     "start_time": "2022-12-24T06:58:47.749193",
     "status": "completed"
    },
    "tags": []
   },
   "outputs": [
    {
     "data": {
      "text/plain": [
       "<AxesSubplot:xlabel='Purchase', ylabel='Density'>"
      ]
     },
     "execution_count": 31,
     "metadata": {},
     "output_type": "execute_result"
    },
    {
     "data": {
      "image/png": "[encoded data removed]",
      "text/plain": [
       "<Figure size 432x288 with 1 Axes>"
      ]
     },
     "metadata": {
      "needs_background": "light"
     },
     "output_type": "display_data"
    }
   ],
   "source": [
    "#Distribution Plot of Purchase\n",
    "sns.distplot(df[\"Purchase\"],color=\"purple\")"
   ]
  },
  {
   "cell_type": "code",
   "execution_count": 32,
   "id": "e7df91d0",
   "metadata": {
    "execution": {
     "iopub.execute_input": "2022-12-24T06:58:50.387316Z",
     "iopub.status.busy": "2022-12-24T06:58:50.386512Z",
     "iopub.status.idle": "2022-12-24T06:58:50.793795Z",
     "shell.execute_reply": "2022-12-24T06:58:50.792497Z"
    },
    "papermill": {
     "duration": 0.435607,
     "end_time": "2022-12-24T06:58:50.796269",
     "exception": false,
     "start_time": "2022-12-24T06:58:50.360662",
     "status": "completed"
    },
    "tags": []
   },
   "outputs": [
    {
     "data": {
      "image/png": "[encoded data removed]",
      "text/plain": [
       "<Figure size 432x288 with 1 Axes>"
      ]
     },
     "metadata": {
      "needs_background": "light"
     },
     "output_type": "display_data"
    }
   ],
   "source": [
    "#Box Plot of Purchase\n",
    "df_na=df.dropna()\n",
    "box=plt.boxplot(df_na[\"Purchase\"],vert=True,notch=False,patch_artist=True)"
   ]
  },
  {
   "cell_type": "code",
   "execution_count": 33,
   "id": "e2468905",
   "metadata": {
    "execution": {
     "iopub.execute_input": "2022-12-24T06:58:50.843852Z",
     "iopub.status.busy": "2022-12-24T06:58:50.843374Z",
     "iopub.status.idle": "2022-12-24T06:58:50.849123Z",
     "shell.execute_reply": "2022-12-24T06:58:50.848065Z"
    },
    "papermill": {
     "duration": 0.031714,
     "end_time": "2022-12-24T06:58:50.851403",
     "exception": false,
     "start_time": "2022-12-24T06:58:50.819689",
     "status": "completed"
    },
    "tags": []
   },
   "outputs": [],
   "source": [
    "#Lets check point which falls outside the whisker\n",
    "value_point_outside_whisker=[item.get_ydata() for item in box[\"fliers\"]]\n",
    "value_point_outside_whisker=value_point_outside_whisker[0]"
   ]
  },
  {
   "cell_type": "code",
   "execution_count": 34,
   "id": "db5615cd",
   "metadata": {
    "execution": {
     "iopub.execute_input": "2022-12-24T06:58:50.899563Z",
     "iopub.status.busy": "2022-12-24T06:58:50.898566Z",
     "iopub.status.idle": "2022-12-24T06:58:50.907355Z",
     "shell.execute_reply": "2022-12-24T06:58:50.905929Z"
    },
    "papermill": {
     "duration": 0.036799,
     "end_time": "2022-12-24T06:58:50.910509",
     "exception": false,
     "start_time": "2022-12-24T06:58:50.873710",
     "status": "completed"
    },
    "tags": []
   },
   "outputs": [
    {
     "data": {
      "text/plain": [
       "(23961.0, 21401.0)"
      ]
     },
     "execution_count": 34,
     "metadata": {},
     "output_type": "execute_result"
    }
   ],
   "source": [
    "value_point_outside_whisker.max(),value_point_outside_whisker.min()"
   ]
  },
  {
   "cell_type": "code",
   "execution_count": 35,
   "id": "c5fe7b98",
   "metadata": {
    "execution": {
     "iopub.execute_input": "2022-12-24T06:58:50.958251Z",
     "iopub.status.busy": "2022-12-24T06:58:50.957812Z",
     "iopub.status.idle": "2022-12-24T06:58:50.966893Z",
     "shell.execute_reply": "2022-12-24T06:58:50.965665Z"
    },
    "papermill": {
     "duration": 0.036678,
     "end_time": "2022-12-24T06:58:50.969880",
     "exception": false,
     "start_time": "2022-12-24T06:58:50.933202",
     "status": "completed"
    },
    "tags": []
   },
   "outputs": [],
   "source": [
    "grater_point=df[df[\"Purchase\"]>=value_point_outside_whisker.min()]"
   ]
  },
  {
   "cell_type": "code",
   "execution_count": 36,
   "id": "1fc035bc",
   "metadata": {
    "execution": {
     "iopub.execute_input": "2022-12-24T06:58:51.017026Z",
     "iopub.status.busy": "2022-12-24T06:58:51.016212Z",
     "iopub.status.idle": "2022-12-24T06:58:51.355015Z",
     "shell.execute_reply": "2022-12-24T06:58:51.353388Z"
    },
    "papermill": {
     "duration": 0.365973,
     "end_time": "2022-12-24T06:58:51.358079",
     "exception": false,
     "start_time": "2022-12-24T06:58:50.992106",
     "status": "completed"
    },
    "tags": []
   },
   "outputs": [
    {
     "data": {
      "text/html": [
       "<div>\n",
       "<style scoped>\n",
       "    .dataframe tbody tr th:only-of-type {\n",
       "        vertical-align: middle;\n",
       "    }\n",
       "\n",
       "    .dataframe tbody tr th {\n",
       "        vertical-align: top;\n",
       "    }\n",
       "\n",
       "    .dataframe thead th {\n",
       "        text-align: right;\n",
       "    }\n",
       "</style>\n",
       "<table border=\"1\" class=\"dataframe\">\n",
       "  <thead>\n",
       "    <tr style=\"text-align: right;\">\n",
       "      <th></th>\n",
       "      <th>index</th>\n",
       "      <th>Product_ID</th>\n",
       "      <th>Gender</th>\n",
       "      <th>Age</th>\n",
       "      <th>Occupation</th>\n",
       "      <th>City_Category</th>\n",
       "      <th>Stay_In_Current_City_Years</th>\n",
       "      <th>Marital_Status</th>\n",
       "      <th>Product_Category_1</th>\n",
       "      <th>Product_Category_2</th>\n",
       "      <th>Product_Category_3</th>\n",
       "      <th>Purchase</th>\n",
       "    </tr>\n",
       "  </thead>\n",
       "  <tbody>\n",
       "    <tr>\n",
       "      <th>0</th>\n",
       "      <td>0</td>\n",
       "      <td>P00069042</td>\n",
       "      <td>F</td>\n",
       "      <td>0-17</td>\n",
       "      <td>10</td>\n",
       "      <td>A</td>\n",
       "      <td>2</td>\n",
       "      <td>0</td>\n",
       "      <td>3</td>\n",
       "      <td>8.0</td>\n",
       "      <td>16.0</td>\n",
       "      <td>8370.0</td>\n",
       "    </tr>\n",
       "    <tr>\n",
       "      <th>1</th>\n",
       "      <td>1</td>\n",
       "      <td>P00248942</td>\n",
       "      <td>F</td>\n",
       "      <td>0-17</td>\n",
       "      <td>10</td>\n",
       "      <td>A</td>\n",
       "      <td>2</td>\n",
       "      <td>0</td>\n",
       "      <td>1</td>\n",
       "      <td>6.0</td>\n",
       "      <td>14.0</td>\n",
       "      <td>15200.0</td>\n",
       "    </tr>\n",
       "    <tr>\n",
       "      <th>2</th>\n",
       "      <td>2</td>\n",
       "      <td>P00087842</td>\n",
       "      <td>F</td>\n",
       "      <td>0-17</td>\n",
       "      <td>10</td>\n",
       "      <td>A</td>\n",
       "      <td>2</td>\n",
       "      <td>0</td>\n",
       "      <td>12</td>\n",
       "      <td>8.0</td>\n",
       "      <td>16.0</td>\n",
       "      <td>1422.0</td>\n",
       "    </tr>\n",
       "    <tr>\n",
       "      <th>3</th>\n",
       "      <td>3</td>\n",
       "      <td>P00085442</td>\n",
       "      <td>F</td>\n",
       "      <td>0-17</td>\n",
       "      <td>10</td>\n",
       "      <td>A</td>\n",
       "      <td>2</td>\n",
       "      <td>0</td>\n",
       "      <td>12</td>\n",
       "      <td>14.0</td>\n",
       "      <td>16.0</td>\n",
       "      <td>1057.0</td>\n",
       "    </tr>\n",
       "    <tr>\n",
       "      <th>4</th>\n",
       "      <td>4</td>\n",
       "      <td>P00285442</td>\n",
       "      <td>M</td>\n",
       "      <td>55+</td>\n",
       "      <td>16</td>\n",
       "      <td>C</td>\n",
       "      <td>4</td>\n",
       "      <td>0</td>\n",
       "      <td>8</td>\n",
       "      <td>8.0</td>\n",
       "      <td>16.0</td>\n",
       "      <td>7969.0</td>\n",
       "    </tr>\n",
       "    <tr>\n",
       "      <th>...</th>\n",
       "      <td>...</td>\n",
       "      <td>...</td>\n",
       "      <td>...</td>\n",
       "      <td>...</td>\n",
       "      <td>...</td>\n",
       "      <td>...</td>\n",
       "      <td>...</td>\n",
       "      <td>...</td>\n",
       "      <td>...</td>\n",
       "      <td>...</td>\n",
       "      <td>...</td>\n",
       "      <td>...</td>\n",
       "    </tr>\n",
       "    <tr>\n",
       "      <th>779860</th>\n",
       "      <td>233594</td>\n",
       "      <td>P00118942</td>\n",
       "      <td>F</td>\n",
       "      <td>26-35</td>\n",
       "      <td>15</td>\n",
       "      <td>B</td>\n",
       "      <td>1</td>\n",
       "      <td>1</td>\n",
       "      <td>8</td>\n",
       "      <td>8.0</td>\n",
       "      <td>16.0</td>\n",
       "      <td>NaN</td>\n",
       "    </tr>\n",
       "    <tr>\n",
       "      <th>779861</th>\n",
       "      <td>233595</td>\n",
       "      <td>P00254642</td>\n",
       "      <td>F</td>\n",
       "      <td>26-35</td>\n",
       "      <td>15</td>\n",
       "      <td>B</td>\n",
       "      <td>2</td>\n",
       "      <td>1</td>\n",
       "      <td>5</td>\n",
       "      <td>8.0</td>\n",
       "      <td>16.0</td>\n",
       "      <td>NaN</td>\n",
       "    </tr>\n",
       "    <tr>\n",
       "      <th>779862</th>\n",
       "      <td>233596</td>\n",
       "      <td>P00031842</td>\n",
       "      <td>F</td>\n",
       "      <td>26-35</td>\n",
       "      <td>15</td>\n",
       "      <td>B</td>\n",
       "      <td>2</td>\n",
       "      <td>1</td>\n",
       "      <td>1</td>\n",
       "      <td>5.0</td>\n",
       "      <td>12.0</td>\n",
       "      <td>NaN</td>\n",
       "    </tr>\n",
       "    <tr>\n",
       "      <th>779863</th>\n",
       "      <td>233597</td>\n",
       "      <td>P00124742</td>\n",
       "      <td>F</td>\n",
       "      <td>46-50</td>\n",
       "      <td>1</td>\n",
       "      <td>C</td>\n",
       "      <td>2</td>\n",
       "      <td>0</td>\n",
       "      <td>10</td>\n",
       "      <td>16.0</td>\n",
       "      <td>16.0</td>\n",
       "      <td>NaN</td>\n",
       "    </tr>\n",
       "    <tr>\n",
       "      <th>779864</th>\n",
       "      <td>233598</td>\n",
       "      <td>P00316642</td>\n",
       "      <td>F</td>\n",
       "      <td>46-50</td>\n",
       "      <td>0</td>\n",
       "      <td>B</td>\n",
       "      <td>2</td>\n",
       "      <td>1</td>\n",
       "      <td>4</td>\n",
       "      <td>5.0</td>\n",
       "      <td>16.0</td>\n",
       "      <td>NaN</td>\n",
       "    </tr>\n",
       "  </tbody>\n",
       "</table>\n",
       "<p>779865 rows × 12 columns</p>\n",
       "</div>"
      ],
      "text/plain": [
       "         index Product_ID Gender    Age  Occupation City_Category  \\\n",
       "0            0  P00069042      F   0-17          10             A   \n",
       "1            1  P00248942      F   0-17          10             A   \n",
       "2            2  P00087842      F   0-17          10             A   \n",
       "3            3  P00085442      F   0-17          10             A   \n",
       "4            4  P00285442      M    55+          16             C   \n",
       "...        ...        ...    ...    ...         ...           ...   \n",
       "779860  233594  P00118942      F  26-35          15             B   \n",
       "779861  233595  P00254642      F  26-35          15             B   \n",
       "779862  233596  P00031842      F  26-35          15             B   \n",
       "779863  233597  P00124742      F  46-50           1             C   \n",
       "779864  233598  P00316642      F  46-50           0             B   \n",
       "\n",
       "        Stay_In_Current_City_Years  Marital_Status  Product_Category_1  \\\n",
       "0                                2               0                   3   \n",
       "1                                2               0                   1   \n",
       "2                                2               0                  12   \n",
       "3                                2               0                  12   \n",
       "4                                4               0                   8   \n",
       "...                            ...             ...                 ...   \n",
       "779860                           1               1                   8   \n",
       "779861                           2               1                   5   \n",
       "779862                           2               1                   1   \n",
       "779863                           2               0                  10   \n",
       "779864                           2               1                   4   \n",
       "\n",
       "        Product_Category_2  Product_Category_3  Purchase  \n",
       "0                      8.0                16.0    8370.0  \n",
       "1                      6.0                14.0   15200.0  \n",
       "2                      8.0                16.0    1422.0  \n",
       "3                     14.0                16.0    1057.0  \n",
       "4                      8.0                16.0    7969.0  \n",
       "...                    ...                 ...       ...  \n",
       "779860                 8.0                16.0       NaN  \n",
       "779861                 8.0                16.0       NaN  \n",
       "779862                 5.0                12.0       NaN  \n",
       "779863                16.0                16.0       NaN  \n",
       "779864                 5.0                16.0       NaN  \n",
       "\n",
       "[779865 rows x 12 columns]"
      ]
     },
     "execution_count": 36,
     "metadata": {},
     "output_type": "execute_result"
    }
   ],
   "source": [
    "#Let's drop Outliers\n",
    "df.drop(grater_point.index).reset_index()"
   ]
  },
  {
   "cell_type": "code",
   "execution_count": 37,
   "id": "169c57d4",
   "metadata": {
    "execution": {
     "iopub.execute_input": "2022-12-24T06:58:51.409470Z",
     "iopub.status.busy": "2022-12-24T06:58:51.408165Z",
     "iopub.status.idle": "2022-12-24T06:58:52.793559Z",
     "shell.execute_reply": "2022-12-24T06:58:52.792302Z"
    },
    "papermill": {
     "duration": 1.413227,
     "end_time": "2022-12-24T06:58:52.796141",
     "exception": false,
     "start_time": "2022-12-24T06:58:51.382914",
     "status": "completed"
    },
    "tags": []
   },
   "outputs": [
    {
     "data": {
      "text/plain": [
       "<AxesSubplot:xlabel='Purchase'>"
      ]
     },
     "execution_count": 37,
     "metadata": {},
     "output_type": "execute_result"
    },
    {
     "data": {
      "image/png": "[encoded data removed]",
      "text/plain": [
       "<Figure size 432x288 with 1 Axes>"
      ]
     },
     "metadata": {
      "needs_background": "light"
     },
     "output_type": "display_data"
    }
   ],
   "source": [
    "sns.violinplot(df[\"Purchase\"],color=\"Purple\")"
   ]
  },
  {
   "cell_type": "code",
   "execution_count": 38,
   "id": "67f77171",
   "metadata": {
    "execution": {
     "iopub.execute_input": "2022-12-24T06:58:52.847668Z",
     "iopub.status.busy": "2022-12-24T06:58:52.846980Z",
     "iopub.status.idle": "2022-12-24T06:58:56.797221Z",
     "shell.execute_reply": "2022-12-24T06:58:56.795831Z"
    },
    "papermill": {
     "duration": 3.9805,
     "end_time": "2022-12-24T06:58:56.800252",
     "exception": false,
     "start_time": "2022-12-24T06:58:52.819752",
     "status": "completed"
    },
    "tags": []
   },
   "outputs": [
    {
     "data": {
      "text/plain": [
       "Text(0.5, 0.98, 'CountPlot of Variables')"
      ]
     },
     "execution_count": 38,
     "metadata": {},
     "output_type": "execute_result"
    },
    {
     "data": {
      "image/png": "[encoded data removed]",
      "text/plain": [
       "<Figure size 1872x1080 with 9 Axes>"
      ]
     },
     "metadata": {
      "needs_background": "light"
     },
     "output_type": "display_data"
    }
   ],
   "source": [
    "#Countplot of variables\n",
    "fig,axis=plt.subplots(3,3,figsize=(26,15))\n",
    "color_list=[\"#7FFFD4\",\"#76EEC6\",\"#66CDAA\",\"#000000\"]*6\n",
    "sns.set_palette(sns.color_palette(color_list))\n",
    "sns.countplot(df[\"Age\"],ax=axis[0,0])\n",
    "sns.countplot(df[\"Gender\"],ax=axis[0,1])\n",
    "sns.countplot(df[\"Occupation\"],ax=axis[0,2])\n",
    "sns.countplot(df[\"Stay_In_Current_City_Years\"],ax=axis[1,0])\n",
    "sns.countplot(df[\"City_Category\"],ax=axis[1,1])\n",
    "sns.countplot(df[\"Marital_Status\"],ax=axis[1,2])\n",
    "sns.countplot(df[\"Product_Category_1\"],ax=axis[2,0])\n",
    "sns.countplot(df[\"Product_Category_2\"],ax=axis[2,1])\n",
    "sns.countplot(df[\"Product_Category_3\"],ax=axis[2,2])\n",
    "plt.suptitle(\"CountPlot of Variables\",fontsize=25)"
   ]
  },
  {
   "cell_type": "code",
   "execution_count": 39,
   "id": "48b99fff",
   "metadata": {
    "execution": {
     "iopub.execute_input": "2022-12-24T06:58:56.853330Z",
     "iopub.status.busy": "2022-12-24T06:58:56.852916Z",
     "iopub.status.idle": "2022-12-24T06:59:52.833912Z",
     "shell.execute_reply": "2022-12-24T06:59:52.832620Z"
    },
    "papermill": {
     "duration": 56.010226,
     "end_time": "2022-12-24T06:59:52.836812",
     "exception": false,
     "start_time": "2022-12-24T06:58:56.826586",
     "status": "completed"
    },
    "tags": []
   },
   "outputs": [
    {
     "data": {
      "text/plain": [
       "Text(0.5, 0.98, 'Purchase per categories')"
      ]
     },
     "execution_count": 39,
     "metadata": {},
     "output_type": "execute_result"
    },
    {
     "data": {
      "image/png": "[encoded data removed]",
      "text/plain": [
       "<Figure size 1872x1080 with 6 Axes>"
      ]
     },
     "metadata": {
      "needs_background": "light"
     },
     "output_type": "display_data"
    }
   ],
   "source": [
    "#Barplot of each variable by purchase\n",
    "fig,axis=plt.subplots(3,2,figsize=(26,15))\n",
    "list_colors = [\"#ffff00\",\"#d0d015\",\"#a3a21b\",\"#78771b\",\"#504e17\",\"#2b2911\",\"#000000\"]\n",
    "sns.barplot(data=df,x=df[\"Product_Category_1\"],y=df[\"Purchase\"],palette=list_colors,ax=axis[0,0])\n",
    "sns.barplot(data=df,x=df[\"Product_Category_2\"],y=df[\"Purchase\"],palette=list_colors,ax=axis[0,1])\n",
    "sns.barplot(data=df,x=df[\"Product_Category_3\"],y=df[\"Purchase\"],palette=list_colors,ax=axis[1,0])\n",
    "sns.barplot(data=df,x=df[\"Occupation\"],y=df[\"Purchase\"],palette=list_colors,ax=axis[1,1])\n",
    "sns.barplot(data=df,x=df[\"City_Category\"],y=df[\"Purchase\"],palette=list_colors,ax=axis[2,0])\n",
    "sns.barplot(data=df,x=df[\"Stay_In_Current_City_Years\"],y=df[\"Purchase\"],palette=list_colors,ax=axis[2,1])\n",
    "plt.suptitle(\"Purchase per categories\",fontsize=25)"
   ]
  },
  {
   "cell_type": "code",
   "execution_count": 40,
   "id": "fe1bd241",
   "metadata": {
    "execution": {
     "iopub.execute_input": "2022-12-24T06:59:52.894951Z",
     "iopub.status.busy": "2022-12-24T06:59:52.894492Z",
     "iopub.status.idle": "2022-12-24T06:59:53.707103Z",
     "shell.execute_reply": "2022-12-24T06:59:53.705823Z"
    },
    "papermill": {
     "duration": 0.843843,
     "end_time": "2022-12-24T06:59:53.710643",
     "exception": false,
     "start_time": "2022-12-24T06:59:52.866800",
     "status": "completed"
    },
    "tags": []
   },
   "outputs": [
    {
     "data": {
      "text/plain": [
       "Text(0.5, 1.0, 'Correlation Heatmap')"
      ]
     },
     "execution_count": 40,
     "metadata": {},
     "output_type": "execute_result"
    },
    {
     "data": {
      "image/png": "[encoded data removed]",
      "text/plain": [
       "<Figure size 936x648 with 2 Axes>"
      ]
     },
     "metadata": {
      "needs_background": "light"
     },
     "output_type": "display_data"
    }
   ],
   "source": [
    "#To Check correlation \n",
    "plt.figure(figsize=(13,9))\n",
    "sns.heatmap(df.corr(),vmin=-1,vmax=1,annot=True,cmap=\"mako\")\n",
    "plt.title(\"Correlation Heatmap\",fontsize=20)"
   ]
  },
  {
   "cell_type": "markdown",
   "id": "57591cae",
   "metadata": {
    "papermill": {
     "duration": 0.026535,
     "end_time": "2022-12-24T06:59:53.764604",
     "exception": false,
     "start_time": "2022-12-24T06:59:53.738069",
     "status": "completed"
    },
    "tags": []
   },
   "source": [
    "# **Data Preparation**"
   ]
  },
  {
   "cell_type": "code",
   "execution_count": 41,
   "id": "9a3f15bb",
   "metadata": {
    "execution": {
     "iopub.execute_input": "2022-12-24T06:59:53.819551Z",
     "iopub.status.busy": "2022-12-24T06:59:53.819078Z",
     "iopub.status.idle": "2022-12-24T06:59:54.041605Z",
     "shell.execute_reply": "2022-12-24T06:59:54.040177Z"
    },
    "papermill": {
     "duration": 0.253465,
     "end_time": "2022-12-24T06:59:54.044548",
     "exception": false,
     "start_time": "2022-12-24T06:59:53.791083",
     "status": "completed"
    },
    "tags": []
   },
   "outputs": [],
   "source": [
    "#convert Object type to category type\n",
    "df['Gender'] = df['Gender'].astype('category')\n",
    "df['Age'] = df['Age'].astype('category')\n",
    "df['City_Category'] = df['City_Category'].astype('category')"
   ]
  },
  {
   "cell_type": "code",
   "execution_count": 42,
   "id": "1719d8a3",
   "metadata": {
    "execution": {
     "iopub.execute_input": "2022-12-24T06:59:54.101326Z",
     "iopub.status.busy": "2022-12-24T06:59:54.100873Z",
     "iopub.status.idle": "2022-12-24T06:59:54.675349Z",
     "shell.execute_reply": "2022-12-24T06:59:54.674014Z"
    },
    "papermill": {
     "duration": 0.60702,
     "end_time": "2022-12-24T06:59:54.678217",
     "exception": false,
     "start_time": "2022-12-24T06:59:54.071197",
     "status": "completed"
    },
    "tags": []
   },
   "outputs": [],
   "source": [
    "#Label and OneHotEncoding\n",
    "enc=OneHotEncoder\n",
    "label_enc=LabelEncoder()\n",
    "df[\"Age\"]=label_enc.fit_transform(df.Age)\n",
    "df[\"Gender\"]=label_enc.fit_transform(df.Gender)\n",
    "df[\"City_Category\"]=label_enc.fit_transform(df.City_Category)"
   ]
  },
  {
   "cell_type": "code",
   "execution_count": 43,
   "id": "5314f327",
   "metadata": {
    "execution": {
     "iopub.execute_input": "2022-12-24T06:59:54.736156Z",
     "iopub.status.busy": "2022-12-24T06:59:54.735365Z",
     "iopub.status.idle": "2022-12-24T06:59:54.783458Z",
     "shell.execute_reply": "2022-12-24T06:59:54.782087Z"
    },
    "papermill": {
     "duration": 0.080685,
     "end_time": "2022-12-24T06:59:54.786431",
     "exception": false,
     "start_time": "2022-12-24T06:59:54.705746",
     "status": "completed"
    },
    "tags": []
   },
   "outputs": [],
   "source": [
    "#Let's Drop Product_ID\n",
    "df.drop(\"Product_ID\",axis=1,inplace=True)"
   ]
  },
  {
   "cell_type": "code",
   "execution_count": 44,
   "id": "e75a98eb",
   "metadata": {
    "execution": {
     "iopub.execute_input": "2022-12-24T06:59:54.844269Z",
     "iopub.status.busy": "2022-12-24T06:59:54.843827Z",
     "iopub.status.idle": "2022-12-24T06:59:55.144984Z",
     "shell.execute_reply": "2022-12-24T06:59:55.143774Z"
    },
    "papermill": {
     "duration": 0.333733,
     "end_time": "2022-12-24T06:59:55.148048",
     "exception": false,
     "start_time": "2022-12-24T06:59:54.814315",
     "status": "completed"
    },
    "tags": []
   },
   "outputs": [],
   "source": [
    "#Let's Normalize data\n",
    "std_scale=StandardScaler().fit(df)\n",
    "df=pd.DataFrame(std_scale.transform(df))\n",
    "df.set_axis([\"Gender\",\"Age\",\"Occupation\",\"City_Category\",\"Stay_In_Current_City_Years\",\"Marital_Status\",\"Product_Category_1\",\"Product_Category_2\",\"Product_Category_3\",\"Purchase\"],inplace=True,axis=1)"
   ]
  },
  {
   "cell_type": "code",
   "execution_count": 45,
   "id": "a80652c3",
   "metadata": {
    "execution": {
     "iopub.execute_input": "2022-12-24T06:59:55.203704Z",
     "iopub.status.busy": "2022-12-24T06:59:55.203200Z",
     "iopub.status.idle": "2022-12-24T06:59:55.209219Z",
     "shell.execute_reply": "2022-12-24T06:59:55.208105Z"
    },
    "papermill": {
     "duration": 0.036885,
     "end_time": "2022-12-24T06:59:55.211630",
     "exception": false,
     "start_time": "2022-12-24T06:59:55.174745",
     "status": "completed"
    },
    "tags": []
   },
   "outputs": [],
   "source": [
    "# Segregating train and test from df\n",
    "train1=df[:df_train.shape[0]]\n",
    "test1=df[df_train.shape[0]:]"
   ]
  },
  {
   "cell_type": "code",
   "execution_count": 46,
   "id": "cea9bd90",
   "metadata": {
    "execution": {
     "iopub.execute_input": "2022-12-24T06:59:55.268281Z",
     "iopub.status.busy": "2022-12-24T06:59:55.267805Z",
     "iopub.status.idle": "2022-12-24T06:59:55.275061Z",
     "shell.execute_reply": "2022-12-24T06:59:55.273489Z"
    },
    "papermill": {
     "duration": 0.039801,
     "end_time": "2022-12-24T06:59:55.278697",
     "exception": false,
     "start_time": "2022-12-24T06:59:55.238896",
     "status": "completed"
    },
    "tags": []
   },
   "outputs": [
    {
     "name": "stdout",
     "output_type": "stream",
     "text": [
      "There are 550068 rows and 10 columns in train\n",
      "There are 233599 rows and 10 columns in test\n"
     ]
    }
   ],
   "source": [
    "#Shape of train and test\n",
    "print('There are {} rows and {} columns in train'.format(train1.shape[0],train1.shape[1]))\n",
    "print('There are {} rows and {} columns in test'.format(test1.shape[0],test1.shape[1]))"
   ]
  },
  {
   "cell_type": "markdown",
   "id": "5f11adcf",
   "metadata": {
    "papermill": {
     "duration": 0.027373,
     "end_time": "2022-12-24T06:59:55.334065",
     "exception": false,
     "start_time": "2022-12-24T06:59:55.306692",
     "status": "completed"
    },
    "tags": []
   },
   "source": [
    "# **Preparing a Model**"
   ]
  },
  {
   "cell_type": "code",
   "execution_count": 47,
   "id": "f090a1ca",
   "metadata": {
    "execution": {
     "iopub.execute_input": "2022-12-24T06:59:55.390429Z",
     "iopub.status.busy": "2022-12-24T06:59:55.390007Z",
     "iopub.status.idle": "2022-12-24T07:00:03.921576Z",
     "shell.execute_reply": "2022-12-24T07:00:03.919741Z"
    },
    "papermill": {
     "duration": 8.565766,
     "end_time": "2022-12-24T07:00:03.926921",
     "exception": false,
     "start_time": "2022-12-24T06:59:55.361155",
     "status": "completed"
    },
    "tags": []
   },
   "outputs": [],
   "source": [
    "#Fitting Regression Model\n",
    "model=smf.ols(\"Purchase~Gender+Age+Occupation+City_Category+Stay_In_Current_City_Years+Marital_Status+Product_Category_1+Product_Category_2+Product_Category_3\",data=df_train).fit()"
   ]
  },
  {
   "cell_type": "code",
   "execution_count": 48,
   "id": "54f69738",
   "metadata": {
    "execution": {
     "iopub.execute_input": "2022-12-24T07:00:04.050665Z",
     "iopub.status.busy": "2022-12-24T07:00:04.050200Z",
     "iopub.status.idle": "2022-12-24T07:00:04.058397Z",
     "shell.execute_reply": "2022-12-24T07:00:04.057536Z"
    },
    "papermill": {
     "duration": 0.068245,
     "end_time": "2022-12-24T07:00:04.061041",
     "exception": false,
     "start_time": "2022-12-24T07:00:03.992796",
     "status": "completed"
    },
    "tags": []
   },
   "outputs": [
    {
     "data": {
      "text/plain": [
       "Intercept                           11469.092934\n",
       "Gender[T.M]                           319.925227\n",
       "Age[T.18-25]                          414.022514\n",
       "Age[T.26-35]                          533.391444\n",
       "Age[T.36-45]                          668.706288\n",
       "Age[T.46-50]                          687.862193\n",
       "Age[T.51-55]                         1040.773098\n",
       "Age[T.55+]                            900.211598\n",
       "City_Category[T.B]                    209.118510\n",
       "City_Category[T.C]                    837.073958\n",
       "Stay_In_Current_City_Years[T.1]       115.459813\n",
       "Stay_In_Current_City_Years[T.2]       212.938441\n",
       "Stay_In_Current_City_Years[T.3]        66.808870\n",
       "Stay_In_Current_City_Years[T.4+]      148.510845\n",
       "Occupation                              7.643229\n",
       "Marital_Status                        -39.823226\n",
       "Product_Category_1                   -827.613566\n",
       "Product_Category_2                     25.320631\n",
       "Product_Category_3                     73.051732\n",
       "dtype: float64"
      ]
     },
     "execution_count": 48,
     "metadata": {},
     "output_type": "execute_result"
    }
   ],
   "source": [
    "#Regression model parameter value\n",
    "model.params"
   ]
  },
  {
   "cell_type": "markdown",
   "id": "74fe3abd",
   "metadata": {
    "papermill": {
     "duration": 0.026642,
     "end_time": "2022-12-24T07:00:04.114928",
     "exception": false,
     "start_time": "2022-12-24T07:00:04.088286",
     "status": "completed"
    },
    "tags": []
   },
   "source": [
    "The regression equation:\n",
    "Purchase=(1.214306e-17)+(4.472397e-02)*Gender+(3.299776e-02)*Age+(8.469732e-03)*Occupation+(5.146503e-02)*City_Category+(2.248841e-03)*Stay_In_Current_City_Years-(4.982603e-03)*Marital_Status-(3.153464e-01)*Product_category_1-(2.056736e-03)*Product_Category2-(8.445025e-02)=Product_Category_3"
   ]
  },
  {
   "cell_type": "code",
   "execution_count": 49,
   "id": "54ddf093",
   "metadata": {
    "execution": {
     "iopub.execute_input": "2022-12-24T07:00:04.172509Z",
     "iopub.status.busy": "2022-12-24T07:00:04.171738Z",
     "iopub.status.idle": "2022-12-24T07:00:04.191713Z",
     "shell.execute_reply": "2022-12-24T07:00:04.189950Z"
    },
    "papermill": {
     "duration": 0.054344,
     "end_time": "2022-12-24T07:00:04.196358",
     "exception": false,
     "start_time": "2022-12-24T07:00:04.142014",
     "status": "completed"
    },
    "tags": []
   },
   "outputs": [
    {
     "name": "stdout",
     "output_type": "stream",
     "text": [
      "Intercept                           134.649237\n",
      "Gender[T.M]                          11.639301\n",
      "Age[T.18-25]                          5.765374\n",
      "Age[T.26-35]                          7.640711\n",
      "Age[T.36-45]                          9.307545\n",
      "Age[T.46-50]                          8.628948\n",
      "Age[T.51-55]                         12.731556\n",
      "Age[T.55+]                            9.867011\n",
      "City_Category[T.B]                    7.235796\n",
      "City_Category[T.C]                   27.512336\n",
      "Stay_In_Current_City_Years[T.1]       3.162789\n",
      "Stay_In_Current_City_Years[T.2]       5.255679\n",
      "Stay_In_Current_City_Years[T.3]       1.620531\n",
      "Stay_In_Current_City_Years[T.4+]      3.491891\n",
      "Occupation                            4.307294\n",
      "Marital_Status                       -1.614035\n",
      "Product_Category_1                 -161.866744\n",
      "Product_Category_2                    7.497540\n",
      "Product_Category_3                   22.235781\n",
      "dtype: float64 \n",
      " Intercept                            0.000000e+00\n",
      "Gender[T.M]                          2.674982e-31\n",
      "Age[T.18-25]                         8.161996e-09\n",
      "Age[T.26-35]                         2.171685e-14\n",
      "Age[T.36-45]                         1.323342e-20\n",
      "Age[T.46-50]                         6.244920e-18\n",
      "Age[T.51-55]                         4.109366e-37\n",
      "Age[T.55+]                           5.870765e-23\n",
      "City_Category[T.B]                   4.647847e-13\n",
      "City_Category[T.C]                  2.948940e-166\n",
      "Stay_In_Current_City_Years[T.1]      1.562933e-03\n",
      "Stay_In_Current_City_Years[T.2]      1.476598e-07\n",
      "Stay_In_Current_City_Years[T.3]      1.051202e-01\n",
      "Stay_In_Current_City_Years[T.4+]     4.797385e-04\n",
      "Occupation                           1.653585e-05\n",
      "Marital_Status                       1.065217e-01\n",
      "Product_Category_1                   0.000000e+00\n",
      "Product_Category_2                   6.534636e-14\n",
      "Product_Category_3                  2.235422e-109\n",
      "dtype: float64\n"
     ]
    }
   ],
   "source": [
    "#tvalue and p value\n",
    "print(model.tvalues, '\\n', model.pvalues)"
   ]
  },
  {
   "cell_type": "code",
   "execution_count": 50,
   "id": "c07fa25e",
   "metadata": {
    "execution": {
     "iopub.execute_input": "2022-12-24T07:00:04.316346Z",
     "iopub.status.busy": "2022-12-24T07:00:04.315878Z",
     "iopub.status.idle": "2022-12-24T07:00:04.330589Z",
     "shell.execute_reply": "2022-12-24T07:00:04.328850Z"
    },
    "papermill": {
     "duration": 0.06934,
     "end_time": "2022-12-24T07:00:04.335546",
     "exception": false,
     "start_time": "2022-12-24T07:00:04.266206",
     "status": "completed"
    },
    "tags": []
   },
   "outputs": [
    {
     "data": {
      "text/plain": [
       "(0.1699318719454218, 0.16984229732218603)"
      ]
     },
     "execution_count": 50,
     "metadata": {},
     "output_type": "execute_result"
    }
   ],
   "source": [
    "#R-square and Adj R-square\n",
    "model.rsquared,model.rsquared_adj"
   ]
  },
  {
   "cell_type": "markdown",
   "id": "cd35ef2b",
   "metadata": {
    "papermill": {
     "duration": 0.057751,
     "end_time": "2022-12-24T07:00:04.467799",
     "exception": false,
     "start_time": "2022-12-24T07:00:04.410048",
     "status": "completed"
    },
    "tags": []
   },
   "source": [
    "R-Square and Adj R-Square are very low, so we can say that the model is poorly fit."
   ]
  },
  {
   "cell_type": "code",
   "execution_count": 51,
   "id": "92d605b1",
   "metadata": {
    "execution": {
     "iopub.execute_input": "2022-12-24T07:00:04.538733Z",
     "iopub.status.busy": "2022-12-24T07:00:04.538279Z",
     "iopub.status.idle": "2022-12-24T07:00:04.613386Z",
     "shell.execute_reply": "2022-12-24T07:00:04.611761Z"
    },
    "papermill": {
     "duration": 0.111295,
     "end_time": "2022-12-24T07:00:04.617739",
     "exception": false,
     "start_time": "2022-12-24T07:00:04.506444",
     "status": "completed"
    },
    "tags": []
   },
   "outputs": [
    {
     "data": {
      "text/html": [
       "<table class=\"simpletable\">\n",
       "<caption>OLS Regression Results</caption>\n",
       "<tr>\n",
       "  <th>Dep. Variable:</th>        <td>Purchase</td>     <th>  R-squared:         </th>  <td>   0.170</td>  \n",
       "</tr>\n",
       "<tr>\n",
       "  <th>Model:</th>                   <td>OLS</td>       <th>  Adj. R-squared:    </th>  <td>   0.170</td>  \n",
       "</tr>\n",
       "<tr>\n",
       "  <th>Method:</th>             <td>Least Squares</td>  <th>  F-statistic:       </th>  <td>   1897.</td>  \n",
       "</tr>\n",
       "<tr>\n",
       "  <th>Date:</th>             <td>Sat, 24 Dec 2022</td> <th>  Prob (F-statistic):</th>   <td>  0.00</td>   \n",
       "</tr>\n",
       "<tr>\n",
       "  <th>Time:</th>                 <td>07:00:04</td>     <th>  Log-Likelihood:    </th> <td>-1.6447e+06</td>\n",
       "</tr>\n",
       "<tr>\n",
       "  <th>No. Observations:</th>      <td>166821</td>      <th>  AIC:               </th>  <td>3.290e+06</td> \n",
       "</tr>\n",
       "<tr>\n",
       "  <th>Df Residuals:</th>          <td>166802</td>      <th>  BIC:               </th>  <td>3.290e+06</td> \n",
       "</tr>\n",
       "<tr>\n",
       "  <th>Df Model:</th>              <td>    18</td>      <th>                     </th>      <td> </td>     \n",
       "</tr>\n",
       "<tr>\n",
       "  <th>Covariance Type:</th>      <td>nonrobust</td>    <th>                     </th>      <td> </td>     \n",
       "</tr>\n",
       "</table>\n",
       "<table class=\"simpletable\">\n",
       "<tr>\n",
       "                  <td></td>                    <th>coef</th>     <th>std err</th>      <th>t</th>      <th>P>|t|</th>  <th>[0.025</th>    <th>0.975]</th>  \n",
       "</tr>\n",
       "<tr>\n",
       "  <th>Intercept</th>                        <td> 1.147e+04</td> <td>   85.178</td> <td>  134.649</td> <td> 0.000</td> <td> 1.13e+04</td> <td> 1.16e+04</td>\n",
       "</tr>\n",
       "<tr>\n",
       "  <th>Gender[T.M]</th>                      <td>  319.9252</td> <td>   27.487</td> <td>   11.639</td> <td> 0.000</td> <td>  266.052</td> <td>  373.798</td>\n",
       "</tr>\n",
       "<tr>\n",
       "  <th>Age[T.18-25]</th>                     <td>  414.0225</td> <td>   71.812</td> <td>    5.765</td> <td> 0.000</td> <td>  273.273</td> <td>  554.772</td>\n",
       "</tr>\n",
       "<tr>\n",
       "  <th>Age[T.26-35]</th>                     <td>  533.3914</td> <td>   69.809</td> <td>    7.641</td> <td> 0.000</td> <td>  396.567</td> <td>  670.216</td>\n",
       "</tr>\n",
       "<tr>\n",
       "  <th>Age[T.36-45]</th>                     <td>  668.7063</td> <td>   71.846</td> <td>    9.308</td> <td> 0.000</td> <td>  527.890</td> <td>  809.522</td>\n",
       "</tr>\n",
       "<tr>\n",
       "  <th>Age[T.46-50]</th>                     <td>  687.8622</td> <td>   79.716</td> <td>    8.629</td> <td> 0.000</td> <td>  531.621</td> <td>  844.103</td>\n",
       "</tr>\n",
       "<tr>\n",
       "  <th>Age[T.51-55]</th>                     <td> 1040.7731</td> <td>   81.748</td> <td>   12.732</td> <td> 0.000</td> <td>  880.550</td> <td> 1200.996</td>\n",
       "</tr>\n",
       "<tr>\n",
       "  <th>Age[T.55+]</th>                       <td>  900.2116</td> <td>   91.234</td> <td>    9.867</td> <td> 0.000</td> <td>  721.394</td> <td> 1079.029</td>\n",
       "</tr>\n",
       "<tr>\n",
       "  <th>City_Category[T.B]</th>               <td>  209.1185</td> <td>   28.901</td> <td>    7.236</td> <td> 0.000</td> <td>  152.474</td> <td>  265.763</td>\n",
       "</tr>\n",
       "<tr>\n",
       "  <th>City_Category[T.C]</th>               <td>  837.0740</td> <td>   30.425</td> <td>   27.512</td> <td> 0.000</td> <td>  777.441</td> <td>  896.707</td>\n",
       "</tr>\n",
       "<tr>\n",
       "  <th>Stay_In_Current_City_Years[T.1]</th>  <td>  115.4598</td> <td>   36.506</td> <td>    3.163</td> <td> 0.002</td> <td>   43.909</td> <td>  187.010</td>\n",
       "</tr>\n",
       "<tr>\n",
       "  <th>Stay_In_Current_City_Years[T.2]</th>  <td>  212.9384</td> <td>   40.516</td> <td>    5.256</td> <td> 0.000</td> <td>  133.528</td> <td>  292.349</td>\n",
       "</tr>\n",
       "<tr>\n",
       "  <th>Stay_In_Current_City_Years[T.3]</th>  <td>   66.8089</td> <td>   41.227</td> <td>    1.621</td> <td> 0.105</td> <td>  -13.994</td> <td>  147.612</td>\n",
       "</tr>\n",
       "<tr>\n",
       "  <th>Stay_In_Current_City_Years[T.4+]</th> <td>  148.5108</td> <td>   42.530</td> <td>    3.492</td> <td> 0.000</td> <td>   65.153</td> <td>  231.869</td>\n",
       "</tr>\n",
       "<tr>\n",
       "  <th>Occupation</th>                       <td>    7.6432</td> <td>    1.774</td> <td>    4.307</td> <td> 0.000</td> <td>    4.165</td> <td>   11.121</td>\n",
       "</tr>\n",
       "<tr>\n",
       "  <th>Marital_Status</th>                   <td>  -39.8232</td> <td>   24.673</td> <td>   -1.614</td> <td> 0.107</td> <td>  -88.182</td> <td>    8.535</td>\n",
       "</tr>\n",
       "<tr>\n",
       "  <th>Product_Category_1</th>               <td> -827.6136</td> <td>    5.113</td> <td> -161.867</td> <td> 0.000</td> <td> -837.635</td> <td> -817.592</td>\n",
       "</tr>\n",
       "<tr>\n",
       "  <th>Product_Category_2</th>               <td>   25.3206</td> <td>    3.377</td> <td>    7.498</td> <td> 0.000</td> <td>   18.701</td> <td>   31.940</td>\n",
       "</tr>\n",
       "<tr>\n",
       "  <th>Product_Category_3</th>               <td>   73.0517</td> <td>    3.285</td> <td>   22.236</td> <td> 0.000</td> <td>   66.613</td> <td>   79.491</td>\n",
       "</tr>\n",
       "</table>\n",
       "<table class=\"simpletable\">\n",
       "<tr>\n",
       "  <th>Omnibus:</th>       <td>2057.705</td> <th>  Durbin-Watson:     </th> <td>   1.834</td>\n",
       "</tr>\n",
       "<tr>\n",
       "  <th>Prob(Omnibus):</th>  <td> 0.000</td>  <th>  Jarque-Bera (JB):  </th> <td>2200.937</td>\n",
       "</tr>\n",
       "<tr>\n",
       "  <th>Skew:</th>           <td> 0.252</td>  <th>  Prob(JB):          </th> <td>    0.00</td>\n",
       "</tr>\n",
       "<tr>\n",
       "  <th>Kurtosis:</th>       <td> 3.251</td>  <th>  Cond. No.          </th> <td>    286.</td>\n",
       "</tr>\n",
       "</table><br/><br/>Notes:<br/>[1] Standard Errors assume that the covariance matrix of the errors is correctly specified."
      ],
      "text/plain": [
       "<class 'statsmodels.iolib.summary.Summary'>\n",
       "\"\"\"\n",
       "                            OLS Regression Results                            \n",
       "==============================================================================\n",
       "Dep. Variable:               Purchase   R-squared:                       0.170\n",
       "Model:                            OLS   Adj. R-squared:                  0.170\n",
       "Method:                 Least Squares   F-statistic:                     1897.\n",
       "Date:                Sat, 24 Dec 2022   Prob (F-statistic):               0.00\n",
       "Time:                        07:00:04   Log-Likelihood:            -1.6447e+06\n",
       "No. Observations:              166821   AIC:                         3.290e+06\n",
       "Df Residuals:                  166802   BIC:                         3.290e+06\n",
       "Df Model:                          18                                         \n",
       "Covariance Type:            nonrobust                                         \n",
       "====================================================================================================\n",
       "                                       coef    std err          t      P>|t|      [0.025      0.975]\n",
       "----------------------------------------------------------------------------------------------------\n",
       "Intercept                         1.147e+04     85.178    134.649      0.000    1.13e+04    1.16e+04\n",
       "Gender[T.M]                        319.9252     27.487     11.639      0.000     266.052     373.798\n",
       "Age[T.18-25]                       414.0225     71.812      5.765      0.000     273.273     554.772\n",
       "Age[T.26-35]                       533.3914     69.809      7.641      0.000     396.567     670.216\n",
       "Age[T.36-45]                       668.7063     71.846      9.308      0.000     527.890     809.522\n",
       "Age[T.46-50]                       687.8622     79.716      8.629      0.000     531.621     844.103\n",
       "Age[T.51-55]                      1040.7731     81.748     12.732      0.000     880.550    1200.996\n",
       "Age[T.55+]                         900.2116     91.234      9.867      0.000     721.394    1079.029\n",
       "City_Category[T.B]                 209.1185     28.901      7.236      0.000     152.474     265.763\n",
       "City_Category[T.C]                 837.0740     30.425     27.512      0.000     777.441     896.707\n",
       "Stay_In_Current_City_Years[T.1]    115.4598     36.506      3.163      0.002      43.909     187.010\n",
       "Stay_In_Current_City_Years[T.2]    212.9384     40.516      5.256      0.000     133.528     292.349\n",
       "Stay_In_Current_City_Years[T.3]     66.8089     41.227      1.621      0.105     -13.994     147.612\n",
       "Stay_In_Current_City_Years[T.4+]   148.5108     42.530      3.492      0.000      65.153     231.869\n",
       "Occupation                           7.6432      1.774      4.307      0.000       4.165      11.121\n",
       "Marital_Status                     -39.8232     24.673     -1.614      0.107     -88.182       8.535\n",
       "Product_Category_1                -827.6136      5.113   -161.867      0.000    -837.635    -817.592\n",
       "Product_Category_2                  25.3206      3.377      7.498      0.000      18.701      31.940\n",
       "Product_Category_3                  73.0517      3.285     22.236      0.000      66.613      79.491\n",
       "==============================================================================\n",
       "Omnibus:                     2057.705   Durbin-Watson:                   1.834\n",
       "Prob(Omnibus):                  0.000   Jarque-Bera (JB):             2200.937\n",
       "Skew:                           0.252   Prob(JB):                         0.00\n",
       "Kurtosis:                       3.251   Cond. No.                         286.\n",
       "==============================================================================\n",
       "\n",
       "Notes:\n",
       "[1] Standard Errors assume that the covariance matrix of the errors is correctly specified.\n",
       "\"\"\""
      ]
     },
     "execution_count": 51,
     "metadata": {},
     "output_type": "execute_result"
    }
   ],
   "source": [
    "#Model Summary\n",
    "model.summary()"
   ]
  },
  {
   "cell_type": "markdown",
   "id": "5f6690b7",
   "metadata": {
    "papermill": {
     "duration": 0.027022,
     "end_time": "2022-12-24T07:00:04.705939",
     "exception": false,
     "start_time": "2022-12-24T07:00:04.678917",
     "status": "completed"
    },
    "tags": []
   },
   "source": [
    "# **Residual Analysis**"
   ]
  },
  {
   "cell_type": "code",
   "execution_count": 52,
   "id": "5a5043c1",
   "metadata": {
    "execution": {
     "iopub.execute_input": "2022-12-24T07:00:04.762296Z",
     "iopub.status.busy": "2022-12-24T07:00:04.761888Z",
     "iopub.status.idle": "2022-12-24T07:00:04.780350Z",
     "shell.execute_reply": "2022-12-24T07:00:04.778683Z"
    },
    "papermill": {
     "duration": 0.051468,
     "end_time": "2022-12-24T07:00:04.784979",
     "exception": false,
     "start_time": "2022-12-24T07:00:04.733511",
     "status": "completed"
    },
    "tags": []
   },
   "outputs": [
    {
     "data": {
      "text/plain": [
       "1         3094.501865\n",
       "6         5685.552388\n",
       "13        3525.802876\n",
       "14       -4403.336376\n",
       "16        1647.943406\n",
       "             ...     \n",
       "545902   -2922.823871\n",
       "545904    7443.066164\n",
       "545907   -8516.578013\n",
       "545908    2584.870391\n",
       "545914   -1176.922680\n",
       "Length: 166821, dtype: float64"
      ]
     },
     "execution_count": 52,
     "metadata": {},
     "output_type": "execute_result"
    }
   ],
   "source": [
    "#Error residual of the model\n",
    "residuals = model.resid\n",
    "residuals"
   ]
  },
  {
   "cell_type": "code",
   "execution_count": 53,
   "id": "fbec6bad",
   "metadata": {
    "execution": {
     "iopub.execute_input": "2022-12-24T07:00:04.905766Z",
     "iopub.status.busy": "2022-12-24T07:00:04.904562Z",
     "iopub.status.idle": "2022-12-24T07:00:05.963281Z",
     "shell.execute_reply": "2022-12-24T07:00:05.962066Z"
    },
    "papermill": {
     "duration": 1.11007,
     "end_time": "2022-12-24T07:00:05.965827",
     "exception": false,
     "start_time": "2022-12-24T07:00:04.855757",
     "status": "completed"
    },
    "tags": []
   },
   "outputs": [
    {
     "data": {
      "text/plain": [
       "<AxesSubplot:ylabel='Density'>"
      ]
     },
     "execution_count": 53,
     "metadata": {},
     "output_type": "execute_result"
    },
    {
     "data": {
      "image/png": "[encoded data removed]",
      "text/plain": [
       "<Figure size 432x288 with 1 Axes>"
      ]
     },
     "metadata": {
      "needs_background": "light"
     },
     "output_type": "display_data"
    }
   ],
   "source": [
    "#Check the distribuion plot of residuals\n",
    "sns.distplot(residuals)"
   ]
  },
  {
   "cell_type": "code",
   "execution_count": 54,
   "id": "a0886f49",
   "metadata": {
    "execution": {
     "iopub.execute_input": "2022-12-24T07:00:06.028018Z",
     "iopub.status.busy": "2022-12-24T07:00:06.027282Z",
     "iopub.status.idle": "2022-12-24T07:00:06.035273Z",
     "shell.execute_reply": "2022-12-24T07:00:06.034229Z"
    },
    "papermill": {
     "duration": 0.042599,
     "end_time": "2022-12-24T07:00:06.038026",
     "exception": false,
     "start_time": "2022-12-24T07:00:05.995427",
     "status": "completed"
    },
    "tags": []
   },
   "outputs": [
    {
     "data": {
      "text/plain": [
       "5.556247668974859e-12"
      ]
     },
     "execution_count": 54,
     "metadata": {},
     "output_type": "execute_result"
    }
   ],
   "source": [
    "#Expected mean value residual assume to be zero\n",
    "#let's check mean of residual\n",
    "residuals.mean()"
   ]
  },
  {
   "cell_type": "markdown",
   "id": "34722e8a",
   "metadata": {
    "papermill": {
     "duration": 0.028733,
     "end_time": "2022-12-24T07:00:06.096066",
     "exception": false,
     "start_time": "2022-12-24T07:00:06.067333",
     "status": "completed"
    },
    "tags": []
   },
   "source": [
    "# **Test for Normality of Residuals (Q-Q Plot)**"
   ]
  },
  {
   "cell_type": "code",
   "execution_count": 55,
   "id": "6c5aa28f",
   "metadata": {
    "execution": {
     "iopub.execute_input": "2022-12-24T07:00:06.157167Z",
     "iopub.status.busy": "2022-12-24T07:00:06.156757Z",
     "iopub.status.idle": "2022-12-24T07:00:06.897017Z",
     "shell.execute_reply": "2022-12-24T07:00:06.895788Z"
    },
    "papermill": {
     "duration": 0.773987,
     "end_time": "2022-12-24T07:00:06.899403",
     "exception": false,
     "start_time": "2022-12-24T07:00:06.125416",
     "status": "completed"
    },
    "tags": []
   },
   "outputs": [
    {
     "data": {
      "image/png": "[encoded data removed]",
      "text/plain": [
       "<Figure size 432x288 with 1 Axes>"
      ]
     },
     "metadata": {
      "needs_background": "light"
     },
     "output_type": "display_data"
    }
   ],
   "source": [
    "#Normal Probability Plot\n",
    "qqplot=sm.qqplot(model.resid, line='q') # line = 45 to draw the diagnoal line\n",
    "plt.title(\"Normal Q-Q plot of residuals\")\n",
    "plt.show()"
   ]
  },
  {
   "cell_type": "markdown",
   "id": "53160d0e",
   "metadata": {
    "papermill": {
     "duration": 0.028032,
     "end_time": "2022-12-24T07:00:06.956785",
     "exception": false,
     "start_time": "2022-12-24T07:00:06.928753",
     "status": "completed"
    },
    "tags": []
   },
   "source": [
    "From above plot we can say that the residuals does not follow normal distribution."
   ]
  },
  {
   "cell_type": "code",
   "execution_count": 56,
   "id": "e1dba096",
   "metadata": {
    "execution": {
     "iopub.execute_input": "2022-12-24T07:00:07.015744Z",
     "iopub.status.busy": "2022-12-24T07:00:07.014912Z",
     "iopub.status.idle": "2022-12-24T07:00:07.030151Z",
     "shell.execute_reply": "2022-12-24T07:00:07.028889Z"
    },
    "papermill": {
     "duration": 0.049097,
     "end_time": "2022-12-24T07:00:07.034149",
     "exception": false,
     "start_time": "2022-12-24T07:00:06.985052",
     "status": "completed"
    },
    "tags": []
   },
   "outputs": [
    {
     "data": {
      "text/plain": [
       "1         12105.498135\n",
       "6         13529.447612\n",
       "13        12139.197124\n",
       "14         9781.336376\n",
       "16        11407.056594\n",
       "              ...     \n",
       "545902    10969.823871\n",
       "545904     9049.933836\n",
       "545907    11941.578013\n",
       "545908    13109.129609\n",
       "545914    12816.922680\n",
       "Length: 166821, dtype: float64"
      ]
     },
     "execution_count": 56,
     "metadata": {},
     "output_type": "execute_result"
    }
   ],
   "source": [
    "#Predicted values by model\n",
    "predictions = model.fittedvalues\n",
    "predictions"
   ]
  },
  {
   "cell_type": "markdown",
   "id": "015a5661",
   "metadata": {
    "papermill": {
     "duration": 0.051177,
     "end_time": "2022-12-24T07:00:07.157093",
     "exception": false,
     "start_time": "2022-12-24T07:00:07.105916",
     "status": "completed"
    },
    "tags": []
   },
   "source": [
    "# **Residual Plot for Homoscedasticity**"
   ]
  },
  {
   "cell_type": "code",
   "execution_count": 57,
   "id": "b0eb7ddc",
   "metadata": {
    "execution": {
     "iopub.execute_input": "2022-12-24T07:00:07.216693Z",
     "iopub.status.busy": "2022-12-24T07:00:07.216225Z",
     "iopub.status.idle": "2022-12-24T07:00:07.229309Z",
     "shell.execute_reply": "2022-12-24T07:00:07.228210Z"
    },
    "papermill": {
     "duration": 0.045783,
     "end_time": "2022-12-24T07:00:07.232126",
     "exception": false,
     "start_time": "2022-12-24T07:00:07.186343",
     "status": "completed"
    },
    "tags": []
   },
   "outputs": [],
   "source": [
    "#Standardization of residuals and predicted values\n",
    "residuals=residuals.values.reshape(-1,1)\n",
    "predictions=predictions.values.reshape(-1,1)\n",
    "std_scale=StandardScaler().fit(residuals)\n",
    "residual=pd.DataFrame(std_scale.transform(residuals))\n",
    "\n",
    "std_scale=StandardScaler().fit(predictions)\n",
    "prediction=pd.DataFrame(std_scale.transform(predictions))"
   ]
  },
  {
   "cell_type": "code",
   "execution_count": 58,
   "id": "1289e666",
   "metadata": {
    "execution": {
     "iopub.execute_input": "2022-12-24T07:00:07.291318Z",
     "iopub.status.busy": "2022-12-24T07:00:07.290863Z",
     "iopub.status.idle": "2022-12-24T07:00:07.799790Z",
     "shell.execute_reply": "2022-12-24T07:00:07.798591Z"
    },
    "papermill": {
     "duration": 0.541924,
     "end_time": "2022-12-24T07:00:07.802698",
     "exception": false,
     "start_time": "2022-12-24T07:00:07.260774",
     "status": "completed"
    },
    "tags": []
   },
   "outputs": [
    {
     "data": {
      "image/png": "[encoded data removed]",
      "text/plain": [
       "<Figure size 432x288 with 1 Axes>"
      ]
     },
     "metadata": {
      "needs_background": "light"
     },
     "output_type": "display_data"
    }
   ],
   "source": [
    "plt.scatter(prediction,residual)\n",
    "\n",
    "plt.title('Residual Plot')\n",
    "plt.xlabel('Standardized Fitted values')\n",
    "plt.ylabel('Standardized residual values')\n",
    "plt.show()"
   ]
  },
  {
   "cell_type": "markdown",
   "id": "ef091c1b",
   "metadata": {
    "papermill": {
     "duration": 0.029765,
     "end_time": "2022-12-24T07:00:07.863485",
     "exception": false,
     "start_time": "2022-12-24T07:00:07.833720",
     "status": "completed"
    },
    "tags": []
   },
   "source": [
    "# **Residual Vs Regressors**"
   ]
  },
  {
   "cell_type": "code",
   "execution_count": 59,
   "id": "a4cb3cc3",
   "metadata": {
    "execution": {
     "iopub.execute_input": "2022-12-24T07:00:07.925197Z",
     "iopub.status.busy": "2022-12-24T07:00:07.924613Z",
     "iopub.status.idle": "2022-12-24T07:00:20.657654Z",
     "shell.execute_reply": "2022-12-24T07:00:20.656326Z"
    },
    "papermill": {
     "duration": 12.767839,
     "end_time": "2022-12-24T07:00:20.660989",
     "exception": false,
     "start_time": "2022-12-24T07:00:07.893150",
     "status": "completed"
    },
    "tags": []
   },
   "outputs": [
    {
     "name": "stdout",
     "output_type": "stream",
     "text": [
      "eval_env: 1\n"
     ]
    },
    {
     "data": {
      "image/png": "[encoded data removed]",
      "text/plain": [
       "<Figure size 1080x576 with 4 Axes>"
      ]
     },
     "metadata": {
      "needs_background": "light"
     },
     "output_type": "display_data"
    }
   ],
   "source": [
    "fig = plt.figure(figsize=(15,8))\n",
    "fig = sm.graphics.plot_regress_exog(model, \"Product_Category_2\", fig=fig)\n",
    "plt.show()"
   ]
  },
  {
   "cell_type": "code",
   "execution_count": 60,
   "id": "c389f266",
   "metadata": {
    "execution": {
     "iopub.execute_input": "2022-12-24T07:00:20.725128Z",
     "iopub.status.busy": "2022-12-24T07:00:20.724658Z",
     "iopub.status.idle": "2022-12-24T07:00:33.191201Z",
     "shell.execute_reply": "2022-12-24T07:00:33.189926Z"
    },
    "papermill": {
     "duration": 12.502112,
     "end_time": "2022-12-24T07:00:33.194597",
     "exception": false,
     "start_time": "2022-12-24T07:00:20.692485",
     "status": "completed"
    },
    "tags": []
   },
   "outputs": [
    {
     "name": "stdout",
     "output_type": "stream",
     "text": [
      "eval_env: 1\n"
     ]
    },
    {
     "data": {
      "image/png": "[encoded data removed]",
      "text/plain": [
       "<Figure size 1080x576 with 4 Axes>"
      ]
     },
     "metadata": {
      "needs_background": "light"
     },
     "output_type": "display_data"
    }
   ],
   "source": [
    "fig = plt.figure(figsize=(15,8))\n",
    "fig = sm.graphics.plot_regress_exog(model, \"Product_Category_1\", fig=fig)\n",
    "plt.show()"
   ]
  },
  {
   "cell_type": "code",
   "execution_count": 61,
   "id": "d48836cc",
   "metadata": {
    "execution": {
     "iopub.execute_input": "2022-12-24T07:00:33.263438Z",
     "iopub.status.busy": "2022-12-24T07:00:33.263004Z",
     "iopub.status.idle": "2022-12-24T07:00:45.597177Z",
     "shell.execute_reply": "2022-12-24T07:00:45.595275Z"
    },
    "papermill": {
     "duration": 12.372514,
     "end_time": "2022-12-24T07:00:45.601244",
     "exception": false,
     "start_time": "2022-12-24T07:00:33.228730",
     "status": "completed"
    },
    "tags": []
   },
   "outputs": [
    {
     "name": "stdout",
     "output_type": "stream",
     "text": [
      "eval_env: 1\n"
     ]
    },
    {
     "data": {
      "image/png": "[encoded data removed]",
      "text/plain": [
       "<Figure size 1080x576 with 4 Axes>"
      ]
     },
     "metadata": {
      "needs_background": "light"
     },
     "output_type": "display_data"
    }
   ],
   "source": [
    "fig = plt.figure(figsize=(15,8))\n",
    "fig = sm.graphics.plot_regress_exog(model, \"Product_Category_3\", fig=fig)\n",
    "plt.show()"
   ]
  },
  {
   "cell_type": "markdown",
   "id": "13374fcd",
   "metadata": {
    "papermill": {
     "duration": 0.035709,
     "end_time": "2022-12-24T07:00:45.679222",
     "exception": false,
     "start_time": "2022-12-24T07:00:45.643513",
     "status": "completed"
    },
    "tags": []
   },
   "source": [
    "# **Detecting Influencers/Outliers**"
   ]
  },
  {
   "cell_type": "markdown",
   "id": "2a67e3d5",
   "metadata": {
    "papermill": {
     "duration": 0.034166,
     "end_time": "2022-12-24T07:00:45.747732",
     "exception": false,
     "start_time": "2022-12-24T07:00:45.713566",
     "status": "completed"
    },
    "tags": []
   },
   "source": [
    "# **Cook’s Distance**"
   ]
  },
  {
   "cell_type": "code",
   "execution_count": 62,
   "id": "8a81a399",
   "metadata": {
    "execution": {
     "iopub.execute_input": "2022-12-24T07:00:45.821698Z",
     "iopub.status.busy": "2022-12-24T07:00:45.820875Z",
     "iopub.status.idle": "2022-12-24T07:00:45.875787Z",
     "shell.execute_reply": "2022-12-24T07:00:45.874179Z"
    },
    "papermill": {
     "duration": 0.09499,
     "end_time": "2022-12-24T07:00:45.878846",
     "exception": false,
     "start_time": "2022-12-24T07:00:45.783856",
     "status": "completed"
    },
    "tags": []
   },
   "outputs": [],
   "source": [
    "model_influence = model.get_influence()\n",
    "(c, _) = model_influence.cooks_distance"
   ]
  },
  {
   "cell_type": "code",
   "execution_count": 63,
   "id": "4f6d1e36",
   "metadata": {
    "execution": {
     "iopub.execute_input": "2022-12-24T07:00:45.949761Z",
     "iopub.status.busy": "2022-12-24T07:00:45.949280Z",
     "iopub.status.idle": "2022-12-24T07:00:45.957705Z",
     "shell.execute_reply": "2022-12-24T07:00:45.956323Z"
    },
    "papermill": {
     "duration": 0.04715,
     "end_time": "2022-12-24T07:00:45.960178",
     "exception": false,
     "start_time": "2022-12-24T07:00:45.913028",
     "status": "completed"
    },
    "tags": []
   },
   "outputs": [
    {
     "data": {
      "text/plain": [
       "array([6.52274345e-06, 1.00220672e-05, 2.96174304e-06, ...,\n",
       "       1.08183261e-05, 1.21352872e-06, 2.14425833e-07])"
      ]
     },
     "execution_count": 63,
     "metadata": {},
     "output_type": "execute_result"
    }
   ],
   "source": [
    "c"
   ]
  },
  {
   "cell_type": "code",
   "execution_count": 64,
   "id": "06d0e12c",
   "metadata": {
    "execution": {
     "iopub.execute_input": "2022-12-24T07:00:46.030625Z",
     "iopub.status.busy": "2022-12-24T07:00:46.029361Z",
     "iopub.status.idle": "2022-12-24T07:00:46.038978Z",
     "shell.execute_reply": "2022-12-24T07:00:46.037518Z"
    },
    "papermill": {
     "duration": 0.047724,
     "end_time": "2022-12-24T07:00:46.041993",
     "exception": false,
     "start_time": "2022-12-24T07:00:45.994269",
     "status": "completed"
    },
    "tags": []
   },
   "outputs": [
    {
     "data": {
      "text/plain": [
       "(48372, 0.0003393947130407625)"
      ]
     },
     "execution_count": 64,
     "metadata": {},
     "output_type": "execute_result"
    }
   ],
   "source": [
    "#index and value of influencer \n",
    "(np.argmax(c), np.max(c))"
   ]
  },
  {
   "cell_type": "markdown",
   "id": "1198167b",
   "metadata": {
    "papermill": {
     "duration": 0.033645,
     "end_time": "2022-12-24T07:00:46.109791",
     "exception": false,
     "start_time": "2022-12-24T07:00:46.076146",
     "status": "completed"
    },
    "tags": []
   },
   "source": [
    "From above analysis we see,\n",
    "* Linear Regression model poorfit to the data.\n",
    "* Variables are dependent on each other that is Multicollinearity present in the data.\n",
    "* Residual of the model is not normally distributed.\n",
    "* Homoskedasticity present in the data.\n",
    "* Residual vs regressor plot shows some pattern.\n",
    "* Mutiple influncing points are present in the data."
   ]
  },
  {
   "cell_type": "markdown",
   "id": "dfd8f61b",
   "metadata": {
    "papermill": {
     "duration": 0.034007,
     "end_time": "2022-12-24T07:00:46.178038",
     "exception": false,
     "start_time": "2022-12-24T07:00:46.144031",
     "status": "completed"
    },
    "tags": []
   },
   "source": [
    "* We can get good accuracy or a good model using XGBRegression or using Hypertuning but not using Linear Regression."
   ]
  },
  {
   "cell_type": "markdown",
   "id": "cae758da",
   "metadata": {
    "papermill": {
     "duration": 0.03316,
     "end_time": "2022-12-24T07:00:46.245538",
     "exception": false,
     "start_time": "2022-12-24T07:00:46.212378",
     "status": "completed"
    },
    "tags": []
   },
   "source": [
    "# **Thank You!**"
   ]
  }
 ],
 "metadata": {
  "kernelspec": {
   "display_name": "Python 3",
   "language": "python",
   "name": "python3"
  },
  "language_info": {
   "codemirror_mode": {
    "name": "ipython",
    "version": 3
   },
   "file_extension": ".py",
   "mimetype": "text/x-python",
   "name": "python",
   "nbconvert_exporter": "python",
   "pygments_lexer": "ipython3",
   "version": "3.7.12"
  },
  "papermill": {
   "default_parameters": {},
   "duration": 141.030729,
   "end_time": "2022-12-24T07:00:48.110918",
   "environment_variables": {},
   "exception": null,
   "input_path": "__notebook__.ipynb",
   "output_path": "__notebook__.ipynb",
   "parameters": {},
   "start_time": "2022-12-24T06:58:27.080189",
   "version": "2.3.4"
  }
 },
 "nbformat": 4,
 "nbformat_minor": 5
}
